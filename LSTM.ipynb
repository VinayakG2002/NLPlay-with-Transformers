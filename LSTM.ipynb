{
  "nbformat": 4,
  "nbformat_minor": 0,
  "metadata": {
    "colab": {
      "name": "LSTM_model.ipynb",
      "provenance": [],
      "collapsed_sections": [],
      "authorship_tag": "ABX9TyOP8A69wybxIYqUtF0wgqeC",
      "include_colab_link": true
    },
    "kernelspec": {
      "name": "python3",
      "display_name": "Python 3"
    },
    "language_info": {
      "name": "python"
    },
    "accelerator": "GPU"
  },
  "cells": [
    {
      "cell_type": "markdown",
      "metadata": {
        "id": "view-in-github",
        "colab_type": "text"
      },
      "source": [
        "<a href=\"https://colab.research.google.com/github/VinayakG2002/README.md/blob/main/LSTM_model.ipynb\" target=\"_parent\"><img src=\"https://colab.research.google.com/assets/colab-badge.svg\" alt=\"Open In Colab\"/></a>"
      ]
    },
    {
      "cell_type": "code",
      "metadata": {
        "id": "GwAUx7_6_NO0"
      },
      "source": [
        "import pandas as pd\n",
        "import numpy as np\n",
        "import os\n",
        "import torch\n",
        "import matplotlib.pyplot as plt\n",
        "import nltk\n",
        "import random"
      ],
      "execution_count": 1,
      "outputs": []
    },
    {
      "cell_type": "code",
      "metadata": {
        "id": "rr1Y8hq9_b2P"
      },
      "source": [
        "url='https://raw.githubusercontent.com/VinayakG2002/NLPlay-with-Transformers/main/IMDB%20Dataset.csv?token=ATKA2LIXPHWLGQT64HBC2KLA6XEPW'\n",
        "df = pd.read_csv(url)"
      ],
      "execution_count": 2,
      "outputs": []
    },
    {
      "cell_type": "code",
      "metadata": {
        "colab": {
          "base_uri": "https://localhost:8080/",
          "height": 189
        },
        "id": "VS_dcbINioAY",
        "outputId": "911f7e4f-546d-4621-c100-919d3cae47b8"
      },
      "source": [
        "print(df.columns)\n",
        "df.describe()"
      ],
      "execution_count": 3,
      "outputs": [
        {
          "output_type": "stream",
          "text": [
            "Index(['review', 'sentiment'], dtype='object')\n"
          ],
          "name": "stdout"
        },
        {
          "output_type": "execute_result",
          "data": {
            "text/html": [
              "<div>\n",
              "<style scoped>\n",
              "    .dataframe tbody tr th:only-of-type {\n",
              "        vertical-align: middle;\n",
              "    }\n",
              "\n",
              "    .dataframe tbody tr th {\n",
              "        vertical-align: top;\n",
              "    }\n",
              "\n",
              "    .dataframe thead th {\n",
              "        text-align: right;\n",
              "    }\n",
              "</style>\n",
              "<table border=\"1\" class=\"dataframe\">\n",
              "  <thead>\n",
              "    <tr style=\"text-align: right;\">\n",
              "      <th></th>\n",
              "      <th>review</th>\n",
              "      <th>sentiment</th>\n",
              "    </tr>\n",
              "  </thead>\n",
              "  <tbody>\n",
              "    <tr>\n",
              "      <th>count</th>\n",
              "      <td>50000</td>\n",
              "      <td>50000</td>\n",
              "    </tr>\n",
              "    <tr>\n",
              "      <th>unique</th>\n",
              "      <td>49582</td>\n",
              "      <td>2</td>\n",
              "    </tr>\n",
              "    <tr>\n",
              "      <th>top</th>\n",
              "      <td>Loved today's show!!! It was a variety and not...</td>\n",
              "      <td>negative</td>\n",
              "    </tr>\n",
              "    <tr>\n",
              "      <th>freq</th>\n",
              "      <td>5</td>\n",
              "      <td>25000</td>\n",
              "    </tr>\n",
              "  </tbody>\n",
              "</table>\n",
              "</div>"
            ],
            "text/plain": [
              "                                                   review sentiment\n",
              "count                                               50000     50000\n",
              "unique                                              49582         2\n",
              "top     Loved today's show!!! It was a variety and not...  negative\n",
              "freq                                                    5     25000"
            ]
          },
          "metadata": {
            "tags": []
          },
          "execution_count": 3
        }
      ]
    },
    {
      "cell_type": "code",
      "metadata": {
        "id": "MbXIaYNwisOX"
      },
      "source": [
        "\n",
        "def splitDF(r):\n",
        "  dataLen = len(df)\n",
        "  temp = ['test']*int((1-r)*dataLen) + ['train']*int((r)*dataLen)\n",
        "  random.shuffle(temp)\n",
        "  df['split'] = temp\n",
        "\n",
        "#splitDF(0.3)"
      ],
      "execution_count": 4,
      "outputs": []
    },
    {
      "cell_type": "code",
      "metadata": {
        "colab": {
          "base_uri": "https://localhost:8080/"
        },
        "id": "YBpzJgFRitlX",
        "outputId": "cc179c16-0fb8-4aac-8103-92ed89347b21"
      },
      "source": [
        "nltk.download('stopwords')"
      ],
      "execution_count": 5,
      "outputs": [
        {
          "output_type": "stream",
          "text": [
            "[nltk_data] Downloading package stopwords to /root/nltk_data...\n",
            "[nltk_data]   Unzipping corpora/stopwords.zip.\n"
          ],
          "name": "stdout"
        },
        {
          "output_type": "execute_result",
          "data": {
            "text/plain": [
              "True"
            ]
          },
          "metadata": {
            "tags": []
          },
          "execution_count": 5
        }
      ]
    },
    {
      "cell_type": "code",
      "metadata": {
        "id": "8ON4vjWvitiD"
      },
      "source": [
        "\n",
        "df['review'] = df['review'].apply(lambda x:x.lower())"
      ],
      "execution_count": 6,
      "outputs": []
    },
    {
      "cell_type": "code",
      "metadata": {
        "id": "9kvyOHK6itev"
      },
      "source": [
        "\n",
        "from nltk.corpus import stopwords\n",
        "stop = stopwords.words('english')\n",
        "df['review'] = df['review'].apply(lambda x: ' '.join([word for word in x.split() if word not in (stop)]))"
      ],
      "execution_count": 7,
      "outputs": []
    },
    {
      "cell_type": "code",
      "metadata": {
        "colab": {
          "base_uri": "https://localhost:8080/",
          "height": 187
        },
        "id": "pHlnu30Qitbh",
        "outputId": "c0c7b614-a530-49bb-b8fe-b80a46d3ced8"
      },
      "source": [
        "\n",
        "df['review'][0]"
      ],
      "execution_count": 8,
      "outputs": [
        {
          "output_type": "execute_result",
          "data": {
            "application/vnd.google.colaboratory.intrinsic+json": {
              "type": "string"
            },
            "text/plain": [
              "\"one reviewers mentioned watching 1 oz episode hooked. right, exactly happened me.<br /><br />the first thing struck oz brutality unflinching scenes violence, set right word go. trust me, show faint hearted timid. show pulls punches regards drugs, sex violence. hardcore, classic use word.<br /><br />it called oz nickname given oswald maximum security state penitentary. focuses mainly emerald city, experimental section prison cells glass fronts face inwards, privacy high agenda. em city home many..aryans, muslims, gangstas, latinos, christians, italians, irish more....so scuffles, death stares, dodgy dealings shady agreements never far away.<br /><br />i would say main appeal show due fact goes shows dare. forget pretty pictures painted mainstream audiences, forget charm, forget romance...oz mess around. first episode ever saw struck nasty surreal, say ready it, watched more, developed taste oz, got accustomed high levels graphic violence. violence, injustice (crooked guards who'll sold nickel, inmates who'll kill order get away it, well mannered, middle class inmates turned prison bitches due lack street skills prison experience) watching oz, may become comfortable uncomfortable viewing....thats get touch darker side.\""
            ]
          },
          "metadata": {
            "tags": []
          },
          "execution_count": 8
        }
      ]
    },
    {
      "cell_type": "code",
      "metadata": {
        "id": "g8l24QWvitYe"
      },
      "source": [
        "def remove_punctuation(text):\n",
        "    final = \"\".join(u for u in text if u not in (\"?\", \".\", \";\", \":\", \"!\", '\"', ',','#','$','@','%','^','&','*'))\n",
        "    return final\n",
        "\n",
        "df['review'] = df['review'].apply(remove_punctuation)"
      ],
      "execution_count": 9,
      "outputs": []
    },
    {
      "cell_type": "code",
      "metadata": {
        "id": "OmYuKXkvitVB"
      },
      "source": [
        "\n",
        "def remove_tags(text):\n",
        "    final = \"\"\n",
        "    stt = True\n",
        "    for letter in text:\n",
        "        if letter == '<':\n",
        "            stt = False\n",
        "        if(stt):\n",
        "            final = final + letter\n",
        "        if letter == '>':\n",
        "            stt = True\n",
        "            final = final + ' '\n",
        "    return final\n",
        "    \n",
        "df['review'] = df['review'].apply(remove_tags)"
      ],
      "execution_count": 11,
      "outputs": []
    },
    {
      "cell_type": "code",
      "metadata": {
        "colab": {
          "base_uri": "https://localhost:8080/",
          "height": 187
        },
        "id": "yjZTzLcYitR8",
        "outputId": "62bdcbb7-e1db-436c-db06-d6d791d79488"
      },
      "source": [
        "df['review'][0]"
      ],
      "execution_count": 12,
      "outputs": [
        {
          "output_type": "execute_result",
          "data": {
            "application/vnd.google.colaboratory.intrinsic+json": {
              "type": "string"
            },
            "text/plain": [
              "\"one reviewers mentioned watching 1 oz episode hooked right exactly happened me  the first thing struck oz brutality unflinching scenes violence set right word go trust me show faint hearted timid show pulls punches regards drugs sex violence hardcore classic use word  it called oz nickname given oswald maximum security state penitentary focuses mainly emerald city experimental section prison cells glass fronts face inwards privacy high agenda em city home manyaryans muslims gangstas latinos christians italians irish moreso scuffles death stares dodgy dealings shady agreements never far away  i would say main appeal show due fact goes shows dare forget pretty pictures painted mainstream audiences forget charm forget romanceoz mess around first episode ever saw struck nasty surreal say ready it watched more developed taste oz got accustomed high levels graphic violence violence injustice (crooked guards who'll sold nickel inmates who'll kill order get away it well mannered middle class inmates turned prison bitches due lack street skills prison experience) watching oz may become comfortable uncomfortable viewingthats get touch darker side\""
            ]
          },
          "metadata": {
            "tags": []
          },
          "execution_count": 12
        }
      ]
    },
    {
      "cell_type": "code",
      "metadata": {
        "colab": {
          "base_uri": "https://localhost:8080/"
        },
        "id": "QlLfQgNoitOf",
        "outputId": "05c5d1fc-31fc-4bea-d4f2-379e631ea5a6"
      },
      "source": [
        "nltk.download('punkt')"
      ],
      "execution_count": 13,
      "outputs": [
        {
          "output_type": "stream",
          "text": [
            "[nltk_data] Downloading package punkt to /root/nltk_data...\n",
            "[nltk_data]   Unzipping tokenizers/punkt.zip.\n"
          ],
          "name": "stdout"
        },
        {
          "output_type": "execute_result",
          "data": {
            "text/plain": [
              "True"
            ]
          },
          "metadata": {
            "tags": []
          },
          "execution_count": 13
        }
      ]
    },
    {
      "cell_type": "code",
      "metadata": {
        "id": "MJRnVL78itLZ"
      },
      "source": [
        "\n",
        "df['review'] = df['review'].apply(nltk.word_tokenize)"
      ],
      "execution_count": 14,
      "outputs": []
    },
    {
      "cell_type": "code",
      "metadata": {
        "id": "Xb8XxjP5itIN"
      },
      "source": [
        "def stem_tokens(tokens):\n",
        "    final = [nltk.stem.PorterStemmer().stem(word) for word in tokens]\n",
        "    return final\n",
        "    \n",
        "df['review'] = df['review'].apply(stem_tokens)"
      ],
      "execution_count": 15,
      "outputs": []
    },
    {
      "cell_type": "code",
      "metadata": {
        "id": "e2cpMTrtitE3"
      },
      "source": [
        "df['len_review'] = df['review'].apply(lambda x:len(x))"
      ],
      "execution_count": 16,
      "outputs": []
    },
    {
      "cell_type": "code",
      "metadata": {
        "id": "JH73a2CYitBr"
      },
      "source": [
        "df['sentiment'] = [1*(sent=='positive') for sent in df['sentiment']]"
      ],
      "execution_count": 17,
      "outputs": []
    },
    {
      "cell_type": "code",
      "metadata": {
        "colab": {
          "base_uri": "https://localhost:8080/",
          "height": 172
        },
        "id": "rFCHGqRHis-l",
        "outputId": "e97b7cb8-65c6-4d9c-c3bc-8175ef06cf29"
      },
      "source": [
        "df.head(4)"
      ],
      "execution_count": 18,
      "outputs": [
        {
          "output_type": "execute_result",
          "data": {
            "text/html": [
              "<div>\n",
              "<style scoped>\n",
              "    .dataframe tbody tr th:only-of-type {\n",
              "        vertical-align: middle;\n",
              "    }\n",
              "\n",
              "    .dataframe tbody tr th {\n",
              "        vertical-align: top;\n",
              "    }\n",
              "\n",
              "    .dataframe thead th {\n",
              "        text-align: right;\n",
              "    }\n",
              "</style>\n",
              "<table border=\"1\" class=\"dataframe\">\n",
              "  <thead>\n",
              "    <tr style=\"text-align: right;\">\n",
              "      <th></th>\n",
              "      <th>review</th>\n",
              "      <th>sentiment</th>\n",
              "      <th>len_review</th>\n",
              "    </tr>\n",
              "  </thead>\n",
              "  <tbody>\n",
              "    <tr>\n",
              "      <th>0</th>\n",
              "      <td>[one, review, mention, watch, 1, oz, episod, h...</td>\n",
              "      <td>1</td>\n",
              "      <td>175</td>\n",
              "    </tr>\n",
              "    <tr>\n",
              "      <th>1</th>\n",
              "      <td>[wonder, littl, product, the, film, techniqu, ...</td>\n",
              "      <td>1</td>\n",
              "      <td>96</td>\n",
              "    </tr>\n",
              "    <tr>\n",
              "      <th>2</th>\n",
              "      <td>[thought, wonder, way, spend, time, hot, summe...</td>\n",
              "      <td>1</td>\n",
              "      <td>95</td>\n",
              "    </tr>\n",
              "    <tr>\n",
              "      <th>3</th>\n",
              "      <td>[basic, there, 's, famili, littl, boy, (, jake...</td>\n",
              "      <td>0</td>\n",
              "      <td>74</td>\n",
              "    </tr>\n",
              "  </tbody>\n",
              "</table>\n",
              "</div>"
            ],
            "text/plain": [
              "                                              review  sentiment  len_review\n",
              "0  [one, review, mention, watch, 1, oz, episod, h...          1         175\n",
              "1  [wonder, littl, product, the, film, techniqu, ...          1          96\n",
              "2  [thought, wonder, way, spend, time, hot, summe...          1          95\n",
              "3  [basic, there, 's, famili, littl, boy, (, jake...          0          74"
            ]
          },
          "metadata": {
            "tags": []
          },
          "execution_count": 18
        }
      ]
    },
    {
      "cell_type": "code",
      "metadata": {
        "id": "I_ZDBH_xis7p"
      },
      "source": [
        "\n",
        "from gensim import corpora\n",
        "\n",
        "review_dict = corpora.Dictionary(df['review'])\n",
        "VOCAB_SIZE = len(review_dict)"
      ],
      "execution_count": 19,
      "outputs": []
    },
    {
      "cell_type": "code",
      "metadata": {
        "id": "Gf4G7i1Qis4z"
      },
      "source": [
        "review_dict?"
      ],
      "execution_count": 20,
      "outputs": []
    },
    {
      "cell_type": "code",
      "metadata": {
        "colab": {
          "base_uri": "https://localhost:8080/"
        },
        "id": "Vwvh8nbLis1v",
        "outputId": "59636054-fcdf-433e-cb69-eb549fc87fb0"
      },
      "source": [
        "print(len(review_dict))\n",
        "review_dict"
      ],
      "execution_count": 21,
      "outputs": [
        {
          "output_type": "stream",
          "text": [
            "132056\n"
          ],
          "name": "stdout"
        },
        {
          "output_type": "execute_result",
          "data": {
            "text/plain": [
              "<gensim.corpora.dictionary.Dictionary at 0x7f333ec918d0>"
            ]
          },
          "metadata": {
            "tags": []
          },
          "execution_count": 21
        }
      ]
    },
    {
      "cell_type": "code",
      "metadata": {
        "id": "mzScwLVqisyx"
      },
      "source": [
        "review_int = []\n",
        "for review in df['review']:\n",
        "  temp = [review_dict.token2id[x] for x in review]\n",
        "  review_int.append(temp)\n",
        "df['review_int'] = review_int"
      ],
      "execution_count": 22,
      "outputs": []
    },
    {
      "cell_type": "code",
      "metadata": {
        "colab": {
          "base_uri": "https://localhost:8080/",
          "height": 172
        },
        "id": "JueaCO5Fisvn",
        "outputId": "ba63397e-d926-4e56-c12b-f9a9f327ea0f"
      },
      "source": [
        "df.head(4)"
      ],
      "execution_count": 23,
      "outputs": [
        {
          "output_type": "execute_result",
          "data": {
            "text/html": [
              "<div>\n",
              "<style scoped>\n",
              "    .dataframe tbody tr th:only-of-type {\n",
              "        vertical-align: middle;\n",
              "    }\n",
              "\n",
              "    .dataframe tbody tr th {\n",
              "        vertical-align: top;\n",
              "    }\n",
              "\n",
              "    .dataframe thead th {\n",
              "        text-align: right;\n",
              "    }\n",
              "</style>\n",
              "<table border=\"1\" class=\"dataframe\">\n",
              "  <thead>\n",
              "    <tr style=\"text-align: right;\">\n",
              "      <th></th>\n",
              "      <th>review</th>\n",
              "      <th>sentiment</th>\n",
              "      <th>len_review</th>\n",
              "      <th>review_int</th>\n",
              "    </tr>\n",
              "  </thead>\n",
              "  <tbody>\n",
              "    <tr>\n",
              "      <th>0</th>\n",
              "      <td>[one, review, mention, watch, 1, oz, episod, h...</td>\n",
              "      <td>1</td>\n",
              "      <td>175</td>\n",
              "      <td>[90, 104, 80, 137, 3, 93, 33, 60, 105, 35, 55,...</td>\n",
              "    </tr>\n",
              "    <tr>\n",
              "      <th>1</th>\n",
              "      <td>[wonder, littl, product, the, film, techniqu, ...</td>\n",
              "      <td>1</td>\n",
              "      <td>96</td>\n",
              "      <td>[206, 171, 183, 126, 162, 196, 202, 175, 161, ...</td>\n",
              "    </tr>\n",
              "    <tr>\n",
              "      <th>2</th>\n",
              "      <td>[thought, wonder, way, spend, time, hot, summe...</td>\n",
              "      <td>1</td>\n",
              "      <td>95</td>\n",
              "      <td>[265, 206, 269, 256, 266, 230, 260, 271, 255, ...</td>\n",
              "    </tr>\n",
              "    <tr>\n",
              "      <th>3</th>\n",
              "      <td>[basic, there, 's, famili, littl, boy, (, jake...</td>\n",
              "      <td>0</td>\n",
              "      <td>74</td>\n",
              "      <td>[281, 314, 144, 291, 171, 283, 1, 295, 2, 315,...</td>\n",
              "    </tr>\n",
              "  </tbody>\n",
              "</table>\n",
              "</div>"
            ],
            "text/plain": [
              "                                              review  ...                                         review_int\n",
              "0  [one, review, mention, watch, 1, oz, episod, h...  ...  [90, 104, 80, 137, 3, 93, 33, 60, 105, 35, 55,...\n",
              "1  [wonder, littl, product, the, film, techniqu, ...  ...  [206, 171, 183, 126, 162, 196, 202, 175, 161, ...\n",
              "2  [thought, wonder, way, spend, time, hot, summe...  ...  [265, 206, 269, 256, 266, 230, 260, 271, 255, ...\n",
              "3  [basic, there, 's, famili, littl, boy, (, jake...  ...  [281, 314, 144, 291, 171, 283, 1, 295, 2, 315,...\n",
              "\n",
              "[4 rows x 4 columns]"
            ]
          },
          "metadata": {
            "tags": []
          },
          "execution_count": 23
        }
      ]
    },
    {
      "cell_type": "code",
      "metadata": {
        "colab": {
          "base_uri": "https://localhost:8080/",
          "height": 416
        },
        "id": "OvxroDnIisrZ",
        "outputId": "95d04a48-1c09-4294-86cb-b500a6f5c638"
      },
      "source": [
        "%matplotlib inline\n",
        "pd.Series(df['len_review']).hist()\n",
        "plt.show()\n",
        "pd.Series(df['len_review']).describe()"
      ],
      "execution_count": 24,
      "outputs": [
        {
          "output_type": "display_data",
          "data": {
            "image/png": "[encoded data removed]",
            "text/plain": [
              "<Figure size 432x288 with 1 Axes>"
            ]
          },
          "metadata": {
            "tags": [],
            "needs_background": "light"
          }
        },
        {
          "output_type": "execute_result",
          "data": {
            "text/plain": [
              "count    50000.000000\n",
              "mean       130.815000\n",
              "std         99.359444\n",
              "min          3.000000\n",
              "25%         69.000000\n",
              "50%         97.000000\n",
              "75%        160.000000\n",
              "max       1486.000000\n",
              "Name: len_review, dtype: float64"
            ]
          },
          "metadata": {
            "tags": []
          },
          "execution_count": 24
        }
      ]
    },
    {
      "cell_type": "code",
      "metadata": {
        "id": "RxBBAVxvjR12"
      },
      "source": [
        "review_int = df['review_int']\n",
        "review_len = df['len_review']\n",
        "review_label = df['sentiment']\n",
        "review_int = [review_int[i] for i,x in enumerate(review_int) if review_len[i]>0]\n",
        "review_label = [review_label[i] for i,x in enumerate(review_label) if review_len[i]>0]\n",
        "review_len = [review_len[i] for i,x in enumerate(review_len) if review_len[i]>0 ]"
      ],
      "execution_count": 25,
      "outputs": []
    },
    {
      "cell_type": "code",
      "metadata": {
        "colab": {
          "base_uri": "https://localhost:8080/"
        },
        "id": "m0KNzVHjjRyp",
        "outputId": "226fe804-ff0f-4827-fdb7-b43d02392a9e"
      },
      "source": [
        "len(review_int)"
      ],
      "execution_count": 26,
      "outputs": [
        {
          "output_type": "execute_result",
          "data": {
            "text/plain": [
              "50000"
            ]
          },
          "metadata": {
            "tags": []
          },
          "execution_count": 26
        }
      ]
    },
    {
      "cell_type": "code",
      "metadata": {
        "id": "MPgw1e9sjRvu"
      },
      "source": [
        "def pad_features(review_int, L):\n",
        "  features = np.zeros((len(review_int),L), dtype = int)\n",
        "  for i,review in enumerate(review_int):\n",
        "    l = len(review)\n",
        "    if l <= L:\n",
        "      patch = [0]*(L-l)\n",
        "      new = patch + review\n",
        "      features[i,:] = np.array(new)\n",
        "    else :\n",
        "      features[i,:] = np.array(review[:L])\n",
        "  return features"
      ],
      "execution_count": 27,
      "outputs": []
    },
    {
      "cell_type": "code",
      "metadata": {
        "id": "iaEf00RUjRsw"
      },
      "source": [
        "features = pad_features(review_int, 200)"
      ],
      "execution_count": 28,
      "outputs": []
    },
    {
      "cell_type": "code",
      "metadata": {
        "colab": {
          "base_uri": "https://localhost:8080/"
        },
        "id": "nG8yxrC4jRpk",
        "outputId": "c593176b-f289-4497-f66a-b7cbabbe80a9"
      },
      "source": [
        "print(features[:10,:])"
      ],
      "execution_count": 29,
      "outputs": [
        {
          "output_type": "stream",
          "text": [
            "[[  0   0   0 ... 129  24 117]\n",
            " [  0   0   0 ... 197 138 154]\n",
            " [  0   0   0 ...  50 190 227]\n",
            " ...\n",
            " [  0   0   0 ... 404 258 213]\n",
            " [  0   0   0 ... 556 561 562]\n",
            " [  0   0   0 ...  66 165 571]]\n"
          ],
          "name": "stdout"
        }
      ]
    },
    {
      "cell_type": "code",
      "metadata": {
        "id": "G3Jo5RptjRmt"
      },
      "source": [
        "split_frac = 0.8\n",
        "\n",
        "train_x = features[0:int(len(features)*split_frac)]\n",
        "train_y = np.array(review_label[0:int(len(features)*split_frac)])\n",
        "\n",
        "test_x = features[len(features)-int(len(features)*split_frac):len(features)-int(len(features)*split_frac/2)]\n",
        "test_y = np.array(review_label[len(features)-int(len(features)*split_frac):len(features)-int(len(features)*split_frac/2)])\n",
        "\n",
        "valid_x = features[len(features)-int(len(features)*split_frac/2):]\n",
        "valid_y = np.array(review_label[len(features)-int(len(features)*split_frac/2):])"
      ],
      "execution_count": 30,
      "outputs": []
    },
    {
      "cell_type": "code",
      "metadata": {
        "id": "933LPzzUjRji"
      },
      "source": [
        "\n",
        "from torch.utils.data import DataLoader, TensorDataset\n",
        "\n",
        "train_data = TensorDataset(torch.from_numpy(train_x), torch.from_numpy(train_y))\n",
        "test_data = TensorDataset(torch.from_numpy(test_x), torch.from_numpy(test_y))\n",
        "valid_data = TensorDataset(torch.from_numpy(valid_x), torch.from_numpy(valid_y))\n",
        "\n",
        "batch_size = 50\n",
        "\n",
        "train_loader = DataLoader(train_data, shuffle=True, batch_size=batch_size)\n",
        "test_loader = DataLoader(test_data, shuffle=True, batch_size=batch_size)\n",
        "valid_loader = DataLoader(valid_data, shuffle=True, batch_size=batch_size)"
      ],
      "execution_count": 31,
      "outputs": []
    },
    {
      "cell_type": "code",
      "metadata": {
        "colab": {
          "base_uri": "https://localhost:8080/"
        },
        "id": "lOwU14MpjRge",
        "outputId": "4fe9f270-acdc-4d5c-cc1e-9508188fd49a"
      },
      "source": [
        "# obtain one batch of training data\n",
        "dataiter = iter(train_loader)\n",
        "sample_x, sample_y = dataiter.next()\n",
        "print('Sample input size: ', sample_x.size()) \n",
        "print('Sample input: \\n', sample_x)\n",
        "print()\n",
        "print('Sample label size: ', sample_y.size()) \n",
        "print('Sample label: \\n', sample_y)"
      ],
      "execution_count": 32,
      "outputs": [
        {
          "output_type": "stream",
          "text": [
            "Sample input size:  torch.Size([50, 200])\n",
            "Sample input: \n",
            " tensor([[    0,     0,     0,  ...,  2099,   116,  3053],\n",
            "        [    0,     0,     0,  ...,  2223,   137,   299],\n",
            "        [    0,     0,     0,  ...,  2463,    10,  8123],\n",
            "        ...,\n",
            "        [    0,     0,     0,  ...,   144,   430,   695],\n",
            "        [  727,   354,  2926,  ...,  1600,   737, 10694],\n",
            "        [    0,     0,     0,  ...,   808,    41,  1166]])\n",
            "\n",
            "Sample label size:  torch.Size([50])\n",
            "Sample label: \n",
            " tensor([1, 0, 1, 0, 0, 1, 1, 0, 1, 1, 0, 0, 1, 0, 1, 1, 0, 1, 1, 1, 0, 1, 0, 1,\n",
            "        0, 1, 0, 0, 1, 1, 1, 1, 1, 1, 0, 1, 1, 1, 0, 1, 1, 0, 1, 1, 0, 0, 0, 0,\n",
            "        0, 0])\n"
          ],
          "name": "stdout"
        }
      ]
    },
    {
      "cell_type": "code",
      "metadata": {
        "colab": {
          "base_uri": "https://localhost:8080/"
        },
        "id": "e-LYwXAYjRdY",
        "outputId": "26715518-b092-4f74-8016-14f7ed93f9d0"
      },
      "source": [
        "import torch.nn as nn\n",
        "import torch.nn.functional as F\n",
        "import torch.optim as optim\n",
        "\n",
        "device = torch.device(\"cuda\" if torch.cuda.is_available() else \"cpu\")\n",
        "print(\"Device available for running: \")\n",
        "print(device)"
      ],
      "execution_count": 33,
      "outputs": [
        {
          "output_type": "stream",
          "text": [
            "Device available for running: \n",
            "cuda\n"
          ],
          "name": "stdout"
        }
      ]
    },
    {
      "cell_type": "code",
      "metadata": {
        "id": "MS7Uu3tYjRak"
      },
      "source": [
        "class SentimentLSTM(nn.Module):\n",
        "    \"\"\"\n",
        "    The RNN model that will be used to perform Sentiment analysis.\n",
        "    \"\"\"\n",
        "\n",
        "    def __init__(self, vocab_size, output_size, embedding_dim, hidden_dim, n_layers, drop_prob=0.5):\n",
        "        \"\"\"\n",
        "        Initialize the model by setting up the layers.\n",
        "        \"\"\"\n",
        "        super().__init__()\n",
        "\n",
        "        self.output_size = output_size\n",
        "        self.n_layers = n_layers\n",
        "        self.hidden_dim = hidden_dim\n",
        "        \n",
        "        # embedding and LSTM layers\n",
        "        self.embedding = nn.Embedding(vocab_size, embedding_dim)\n",
        "        self.lstm = nn.LSTM(embedding_dim, hidden_dim, n_layers, \n",
        "                            dropout=drop_prob, batch_first=True)\n",
        "        \n",
        "        # dropout layer\n",
        "        self.dropout = nn.Dropout(0.3)\n",
        "        \n",
        "        # linear and sigmoid layers\n",
        "        self.fc = nn.Linear(hidden_dim, output_size)\n",
        "        self.sig = nn.Sigmoid()\n",
        "\n",
        "    def forward(self, x, hidden):\n",
        "        \"\"\"\n",
        "        Perform a forward pass of our model on some input and hidden state.\n",
        "        \"\"\"\n",
        "        batch_size = x.size(0)\n",
        "\n",
        "        # embeddings and lstm_out\n",
        "        embeds = self.embedding(x)\n",
        "        lstm_out, hidden = self.lstm(embeds, hidden)\n",
        "    \n",
        "        # stack up lstm outputs\n",
        "        lstm_out = lstm_out.contiguous().view(-1, self.hidden_dim)\n",
        "        \n",
        "        # dropout and fully-connected layer\n",
        "        out = self.dropout(lstm_out)\n",
        "        out = self.fc(out)\n",
        "        # sigmoid function\n",
        "        sig_out = self.sig(out)\n",
        "        \n",
        "        # reshape to be batch_size first\n",
        "        sig_out = sig_out.view(batch_size, -1)\n",
        "        sig_out = sig_out[:, -1] # get last batch of labels\n",
        "        \n",
        "        # return last sigmoid output and hidden state\n",
        "        return sig_out, hidden\n",
        "    \n",
        "    \n",
        "    def init_hidden(self, batch_size):\n",
        "        ''' Initializes hidden state '''\n",
        "        # Create two new tensors with sizes n_layers x batch_size x hidden_dim,\n",
        "        # initialized to zero, for hidden state and cell state of LSTM\n",
        "        weight = next(self.parameters()).data\n",
        "        \n",
        "        if (train_on_gpu):\n",
        "            hidden = (weight.new(self.n_layers, batch_size, self.hidden_dim).zero_().cuda(),\n",
        "                  weight.new(self.n_layers, batch_size, self.hidden_dim).zero_().cuda())\n",
        "        else:\n",
        "            hidden = (weight.new(self.n_layers, batch_size, self.hidden_dim).zero_(),\n",
        "                      weight.new(self.n_layers, batch_size, self.hidden_dim).zero_())\n",
        "        \n",
        "        return hidden"
      ],
      "execution_count": 34,
      "outputs": []
    },
    {
      "cell_type": "code",
      "metadata": {
        "colab": {
          "base_uri": "https://localhost:8080/"
        },
        "id": "BpfScIFNjRXm",
        "outputId": "a26fb183-a13d-412e-c8fa-38790f12ab8c"
      },
      "source": [
        "\n",
        "# Instantiate the model w/ hyperparams\n",
        "vocab_size = len(review_dict)+1 # +1 for the 0 padding\n",
        "output_size = 1\n",
        "embedding_dim = 400\n",
        "hidden_dim = 256\n",
        "n_layers = 2\n",
        "net = SentimentLSTM(vocab_size, output_size, embedding_dim, hidden_dim, n_layers)\n",
        "\n",
        "print(net)"
      ],
      "execution_count": 35,
      "outputs": [
        {
          "output_type": "stream",
          "text": [
            "SentimentLSTM(\n",
            "  (embedding): Embedding(132057, 400)\n",
            "  (lstm): LSTM(400, 256, num_layers=2, batch_first=True, dropout=0.5)\n",
            "  (dropout): Dropout(p=0.3, inplace=False)\n",
            "  (fc): Linear(in_features=256, out_features=1, bias=True)\n",
            "  (sig): Sigmoid()\n",
            ")\n"
          ],
          "name": "stdout"
        }
      ]
    },
    {
      "cell_type": "code",
      "metadata": {
        "colab": {
          "base_uri": "https://localhost:8080/"
        },
        "id": "j-2lAGVsjRUi",
        "outputId": "34f24879-c097-48a0-b22b-875480537b23"
      },
      "source": [
        "\n",
        "train_on_gpu=torch.cuda.is_available()\n",
        "\n",
        "if(train_on_gpu):\n",
        "    print('Training on GPU.')\n",
        "else:\n",
        "    print('No GPU available, training on CPU.')"
      ],
      "execution_count": 36,
      "outputs": [
        {
          "output_type": "stream",
          "text": [
            "Training on GPU.\n"
          ],
          "name": "stdout"
        }
      ]
    },
    {
      "cell_type": "code",
      "metadata": {
        "id": "1yYgUn6ojzut"
      },
      "source": [
        "lr=0.001\n",
        "\n",
        "criterion = nn.BCELoss()\n",
        "optimizer = torch.optim.Adam(net.parameters(), lr=lr)"
      ],
      "execution_count": 37,
      "outputs": []
    },
    {
      "cell_type": "code",
      "metadata": {
        "colab": {
          "base_uri": "https://localhost:8080/"
        },
        "id": "YW-jFJ7KjzsO",
        "outputId": "7c9d4029-7861-49ad-ef5a-a2a0dcb80fb6"
      },
      "source": [
        "# training params\n",
        "\n",
        "epochs = 10\n",
        "\n",
        "counter = 0\n",
        "print_every = 100\n",
        "clip=5 # gradient clipping\n",
        "\n",
        "# move model to GPU, if available\n",
        "if(train_on_gpu):\n",
        "    net.cuda()\n",
        "\n",
        "net.train()\n",
        "# train for some number of epochs\n",
        "for e in range(epochs):\n",
        "    # initialize hidden state\n",
        "    h = net.init_hidden(batch_size)\n",
        "\n",
        "    # batch loop\n",
        "    for inputs, labels in train_loader:\n",
        "        counter += 1\n",
        "        #print(counter)\n",
        "\n",
        "        if(train_on_gpu):\n",
        "            inputs, labels = inputs.cuda(), labels.cuda()\n",
        "\n",
        "        # Creating new variables for the hidden state, otherwise\n",
        "        # we'd backprop through the entire training history\n",
        "        h = tuple([each.data for each in h])\n",
        "\n",
        "        # zero accumulated gradients\n",
        "        net.zero_grad()\n",
        "\n",
        "        # get the output from the model\n",
        "        output, h = net(inputs, h)\n",
        "\n",
        "        # calculate the loss and perform backprop\n",
        "        loss = criterion(output.squeeze(), labels.float())\n",
        "        loss.backward()\n",
        "        # `clip_grad_norm` helps prevent the exploding gradient problem in RNNs / LSTMs.\n",
        "        nn.utils.clip_grad_norm_(net.parameters(), clip)\n",
        "        optimizer.step()\n",
        "\n",
        "        # loss stats\n",
        "        if counter % print_every == 0:\n",
        "            # Get validation loss\n",
        "            val_h = net.init_hidden(batch_size)\n",
        "            val_losses = []\n",
        "            net.eval()\n",
        "            for inputs, labels in valid_loader:\n",
        "\n",
        "                # Creating new variables for the hidden state, otherwise\n",
        "                # we'd backprop through the entire training history\n",
        "                val_h = tuple([each.data for each in val_h])\n",
        "\n",
        "                if(train_on_gpu):\n",
        "                    inputs, labels = inputs.cuda(), labels.cuda()\n",
        "\n",
        "                output, val_h = net(inputs, val_h)\n",
        "                val_loss = criterion(output.squeeze(), labels.float())\n",
        "\n",
        "                val_losses.append(val_loss.item())\n",
        "\n",
        "            net.train()\n",
        "            print(\"Epoch: {}/{}...\".format(e+1, epochs),\n",
        "                  \"Step: {}...\".format(counter),\n",
        "                  \"Loss: {:.6f}...\".format(loss.item()),\n",
        "                  \"Val Loss: {:.6f}\".format(np.mean(val_losses)))"
      ],
      "execution_count": 38,
      "outputs": [
        {
          "output_type": "stream",
          "text": [
            "Epoch: 1/10... Step: 100... Loss: 0.548472... Val Loss: 0.529878\n",
            "Epoch: 1/10... Step: 200... Loss: 0.577139... Val Loss: 0.634917\n",
            "Epoch: 1/10... Step: 300... Loss: 0.513995... Val Loss: 0.538901\n",
            "Epoch: 1/10... Step: 400... Loss: 0.536210... Val Loss: 0.475136\n",
            "Epoch: 1/10... Step: 500... Loss: 0.517570... Val Loss: 0.497626\n",
            "Epoch: 1/10... Step: 600... Loss: 0.341450... Val Loss: 0.413681\n",
            "Epoch: 1/10... Step: 700... Loss: 0.510877... Val Loss: 0.410248\n",
            "Epoch: 1/10... Step: 800... Loss: 0.302134... Val Loss: 0.380913\n",
            "Epoch: 2/10... Step: 900... Loss: 0.302514... Val Loss: 0.331819\n",
            "Epoch: 2/10... Step: 1000... Loss: 0.206102... Val Loss: 0.324322\n",
            "Epoch: 2/10... Step: 1100... Loss: 0.330103... Val Loss: 0.335234\n",
            "Epoch: 2/10... Step: 1200... Loss: 0.394297... Val Loss: 0.310715\n",
            "Epoch: 2/10... Step: 1300... Loss: 0.395147... Val Loss: 0.288650\n",
            "Epoch: 2/10... Step: 1400... Loss: 0.270802... Val Loss: 0.299315\n",
            "Epoch: 2/10... Step: 1500... Loss: 0.240363... Val Loss: 0.275677\n",
            "Epoch: 2/10... Step: 1600... Loss: 0.269696... Val Loss: 0.263649\n",
            "Epoch: 3/10... Step: 1700... Loss: 0.177562... Val Loss: 0.259667\n",
            "Epoch: 3/10... Step: 1800... Loss: 0.202950... Val Loss: 0.270852\n",
            "Epoch: 3/10... Step: 1900... Loss: 0.198159... Val Loss: 0.252670\n",
            "Epoch: 3/10... Step: 2000... Loss: 0.044014... Val Loss: 0.242169\n",
            "Epoch: 3/10... Step: 2100... Loss: 0.249665... Val Loss: 0.273981\n",
            "Epoch: 3/10... Step: 2200... Loss: 0.206187... Val Loss: 0.244809\n",
            "Epoch: 3/10... Step: 2300... Loss: 0.192464... Val Loss: 0.225006\n",
            "Epoch: 3/10... Step: 2400... Loss: 0.237269... Val Loss: 0.226618\n",
            "Epoch: 4/10... Step: 2500... Loss: 0.210453... Val Loss: 0.259414\n",
            "Epoch: 4/10... Step: 2600... Loss: 0.192042... Val Loss: 0.226492\n",
            "Epoch: 4/10... Step: 2700... Loss: 0.082743... Val Loss: 0.222948\n",
            "Epoch: 4/10... Step: 2800... Loss: 0.079100... Val Loss: 0.223125\n",
            "Epoch: 4/10... Step: 2900... Loss: 0.051395... Val Loss: 0.220896\n",
            "Epoch: 4/10... Step: 3000... Loss: 0.152470... Val Loss: 0.219259\n",
            "Epoch: 4/10... Step: 3100... Loss: 0.148988... Val Loss: 0.219317\n",
            "Epoch: 4/10... Step: 3200... Loss: 0.035498... Val Loss: 0.208160\n",
            "Epoch: 5/10... Step: 3300... Loss: 0.080696... Val Loss: 0.259651\n",
            "Epoch: 5/10... Step: 3400... Loss: 0.021811... Val Loss: 0.260183\n",
            "Epoch: 5/10... Step: 3500... Loss: 0.140638... Val Loss: 0.225639\n",
            "Epoch: 5/10... Step: 3600... Loss: 0.193036... Val Loss: 0.251100\n",
            "Epoch: 5/10... Step: 3700... Loss: 0.042969... Val Loss: 0.217891\n",
            "Epoch: 5/10... Step: 3800... Loss: 0.042683... Val Loss: 0.239785\n",
            "Epoch: 5/10... Step: 3900... Loss: 0.048878... Val Loss: 0.219078\n",
            "Epoch: 5/10... Step: 4000... Loss: 0.108515... Val Loss: 0.225183\n",
            "Epoch: 6/10... Step: 4100... Loss: 0.031570... Val Loss: 0.245787\n",
            "Epoch: 6/10... Step: 4200... Loss: 0.011649... Val Loss: 0.251183\n",
            "Epoch: 6/10... Step: 4300... Loss: 0.006080... Val Loss: 0.251551\n",
            "Epoch: 6/10... Step: 4400... Loss: 0.018412... Val Loss: 0.289943\n",
            "Epoch: 6/10... Step: 4500... Loss: 0.145861... Val Loss: 0.291181\n",
            "Epoch: 6/10... Step: 4600... Loss: 0.009506... Val Loss: 0.254687\n",
            "Epoch: 6/10... Step: 4700... Loss: 0.016257... Val Loss: 0.288185\n",
            "Epoch: 6/10... Step: 4800... Loss: 0.019006... Val Loss: 0.246199\n",
            "Epoch: 7/10... Step: 4900... Loss: 0.013558... Val Loss: 0.255831\n",
            "Epoch: 7/10... Step: 5000... Loss: 0.001576... Val Loss: 0.272534\n",
            "Epoch: 7/10... Step: 5100... Loss: 0.111554... Val Loss: 0.320868\n",
            "Epoch: 7/10... Step: 5200... Loss: 0.034294... Val Loss: 0.275449\n",
            "Epoch: 7/10... Step: 5300... Loss: 0.007126... Val Loss: 0.252408\n",
            "Epoch: 7/10... Step: 5400... Loss: 0.008752... Val Loss: 0.269885\n",
            "Epoch: 7/10... Step: 5500... Loss: 0.008662... Val Loss: 0.263662\n",
            "Epoch: 7/10... Step: 5600... Loss: 0.012627... Val Loss: 0.284498\n",
            "Epoch: 8/10... Step: 5700... Loss: 0.000657... Val Loss: 0.328426\n",
            "Epoch: 8/10... Step: 5800... Loss: 0.054637... Val Loss: 0.280461\n",
            "Epoch: 8/10... Step: 5900... Loss: 0.003038... Val Loss: 0.292685\n",
            "Epoch: 8/10... Step: 6000... Loss: 0.039093... Val Loss: 0.290085\n",
            "Epoch: 8/10... Step: 6100... Loss: 0.050847... Val Loss: 0.304704\n",
            "Epoch: 8/10... Step: 6200... Loss: 0.015474... Val Loss: 0.304521\n",
            "Epoch: 8/10... Step: 6300... Loss: 0.027656... Val Loss: 0.277417\n",
            "Epoch: 8/10... Step: 6400... Loss: 0.004244... Val Loss: 0.288478\n",
            "Epoch: 9/10... Step: 6500... Loss: 0.001631... Val Loss: 0.328125\n",
            "Epoch: 9/10... Step: 6600... Loss: 0.007966... Val Loss: 0.311538\n",
            "Epoch: 9/10... Step: 6700... Loss: 0.018124... Val Loss: 0.314310\n",
            "Epoch: 9/10... Step: 6800... Loss: 0.010392... Val Loss: 0.339155\n",
            "Epoch: 9/10... Step: 6900... Loss: 0.013885... Val Loss: 0.306067\n",
            "Epoch: 9/10... Step: 7000... Loss: 0.013663... Val Loss: 0.291790\n",
            "Epoch: 9/10... Step: 7100... Loss: 0.003102... Val Loss: 0.315386\n",
            "Epoch: 9/10... Step: 7200... Loss: 0.003155... Val Loss: 0.342034\n",
            "Epoch: 10/10... Step: 7300... Loss: 0.022596... Val Loss: 0.386248\n",
            "Epoch: 10/10... Step: 7400... Loss: 0.014169... Val Loss: 0.359253\n",
            "Epoch: 10/10... Step: 7500... Loss: 0.001021... Val Loss: 0.372592\n",
            "Epoch: 10/10... Step: 7600... Loss: 0.003990... Val Loss: 0.352434\n",
            "Epoch: 10/10... Step: 7700... Loss: 0.001021... Val Loss: 0.323214\n",
            "Epoch: 10/10... Step: 7800... Loss: 0.012777... Val Loss: 0.319619\n",
            "Epoch: 10/10... Step: 7900... Loss: 0.001230... Val Loss: 0.338738\n",
            "Epoch: 10/10... Step: 8000... Loss: 0.128559... Val Loss: 0.341787\n"
          ],
          "name": "stdout"
        }
      ]
    },
    {
      "cell_type": "code",
      "metadata": {
        "colab": {
          "base_uri": "https://localhost:8080/"
        },
        "id": "1nKfX18XjzpA",
        "outputId": "3b98b7e4-13f4-4a83-d104-768e53a0b73d"
      },
      "source": [
        "# Get test data loss and accuracy\n",
        "\n",
        "test_losses = [] # track loss\n",
        "num_correct = 0\n",
        "\n",
        "# init hidden state\n",
        "h = net.init_hidden(batch_size)\n",
        "\n",
        "net.eval()\n",
        "# iterate over test data\n",
        "for inputs, labels in test_loader:\n",
        "\n",
        "    # Creating new variables for the hidden state, otherwise\n",
        "    # we'd backprop through the entire training history\n",
        "    h = tuple([each.data for each in h])\n",
        "\n",
        "    if(train_on_gpu):\n",
        "        inputs, labels = inputs.cuda(), labels.cuda()\n",
        "    \n",
        "    # get predicted outputs\n",
        "    output, h = net(inputs, h)\n",
        "    \n",
        "    # calculate loss\n",
        "    test_loss = criterion(output.squeeze(), labels.float())\n",
        "    test_losses.append(test_loss.item())\n",
        "    \n",
        "    # convert output probabilities to predicted class (0 or 1)\n",
        "    pred = torch.round(output.squeeze())  # rounds to the nearest integer\n",
        "    \n",
        "    # compare predictions to true label\n",
        "    correct_tensor = pred.eq(labels.float().view_as(pred))\n",
        "    correct = np.squeeze(correct_tensor.numpy()) if not train_on_gpu else np.squeeze(correct_tensor.cpu().numpy())\n",
        "    num_correct += np.sum(correct)\n",
        "\n",
        "\n",
        "# -- stats! -- ##\n",
        "# avg test loss\n",
        "print(\"Test loss: {:.3f}\".format(np.mean(test_losses)))\n",
        "\n",
        "# accuracy over all test data\n",
        "test_acc = num_correct/len(test_loader.dataset)\n",
        "print(\"Test accuracy: {:.3f}\".format(test_acc))"
      ],
      "execution_count": 39,
      "outputs": [
        {
          "output_type": "stream",
          "text": [
            "Test loss: 0.008\n",
            "Test accuracy: 0.998\n"
          ],
          "name": "stdout"
        }
      ]
    },
    {
      "cell_type": "code",
      "metadata": {
        "id": "VJd9OE17jzhw"
      },
      "source": [
        "def preprocess(review):\n",
        "    review = review.lower()\n",
        "    word_list = review.split()\n",
        "    num_list = []\n",
        "    #list of reviews\n",
        "    #though it contains only one review as of now\n",
        "    reviews_int = []\n",
        "    for word in word_list:\n",
        "        if word in review_dict.token2id:\n",
        "            num_list.append(review_dict.token2id[word])\n",
        "    reviews_int.append(num_list)\n",
        "    return reviews_int"
      ],
      "execution_count": 40,
      "outputs": []
    },
    {
      "cell_type": "code",
      "metadata": {
        "id": "upsS-G37jzfp"
      },
      "source": [
        "def predict(net, test_review, sequence_length=200):\n",
        "    ''' Prints out whether a give review is predicted to be \n",
        "        positive or negative in sentiment, using a trained model.\n",
        "        \n",
        "        params:\n",
        "        net - A trained net \n",
        "        test_review - a review made of normal text and punctuation\n",
        "        sequence_length - the padded length of a review\n",
        "        '''\n",
        "    #change the reviews to sequence of integers\n",
        "    int_rev = preprocess(test_review)\n",
        "    #pad the reviews as per the sequence length of the feature\n",
        "    features = pad_features(int_rev, L=seq_length)\n",
        "    \n",
        "    #changing the features to PyTorch tensor\n",
        "    features = torch.from_numpy(features)\n",
        "    \n",
        "    #pass the features to the model to get prediction\n",
        "    net.eval()\n",
        "    val_h = net.init_hidden(1)\n",
        "    val_h = tuple([each.data for each in val_h])\n",
        "\n",
        "    if(train_on_gpu):\n",
        "        features = features.cuda()\n",
        "\n",
        "    output, val_h = net(features, val_h)\n",
        "    \n",
        "    #rounding the output to nearest 0 or 1\n",
        "    pred = torch.round(output)\n",
        "    \n",
        "    #mapping the numeric values to postive or negative\n",
        "    sent = [\"Positive\" if pred.item() == 1 else \"Negative\"]\n",
        "    \n",
        "    # print custom response based on whether test_review is pos/neg\n",
        "    print(sent,'  ',((pred.item()==1)*output.item()+(pred.item()==0)*(1-output.item()))*100,'%')"
      ],
      "execution_count": 41,
      "outputs": []
    },
    {
      "cell_type": "code",
      "metadata": {
        "id": "0ZCgmyCrjzct"
      },
      "source": [
        "positive_review = 'A great movie. Totally worth every penny. '"
      ],
      "execution_count": 42,
      "outputs": []
    },
    {
      "cell_type": "code",
      "metadata": {
        "colab": {
          "base_uri": "https://localhost:8080/"
        },
        "id": "zZywS9_tjzaM",
        "outputId": "ea04525b-5bb3-4903-c5e8-e0bd0ea90564"
      },
      "source": [
        "seq_length=200\n",
        "predict(net, positive_review, seq_length)"
      ],
      "execution_count": 43,
      "outputs": [
        {
          "output_type": "stream",
          "text": [
            "['Positive']    99.22699928283691 %\n"
          ],
          "name": "stdout"
        }
      ]
    },
    {
      "cell_type": "code",
      "metadata": {
        "id": "ZFh81yZOjzXg"
      },
      "source": [
        "negative_review = 'Amongst the worst works of diresctor nick furry. I want my money back. Waste of time.'"
      ],
      "execution_count": 44,
      "outputs": []
    },
    {
      "cell_type": "code",
      "metadata": {
        "colab": {
          "base_uri": "https://localhost:8080/"
        },
        "id": "J1HDB6V9jzUv",
        "outputId": "23d99d5b-b8b9-4f1e-e94e-85e79dd1202e"
      },
      "source": [
        "seq_length=200\n",
        "predict(net, negative_review, seq_length)"
      ],
      "execution_count": 45,
      "outputs": [
        {
          "output_type": "stream",
          "text": [
            "['Negative']    99.95811693952419 %\n"
          ],
          "name": "stdout"
        }
      ]
    },
    {
      "cell_type": "code",
      "metadata": {
        "colab": {
          "base_uri": "https://localhost:8080/"
        },
        "id": "rHkVvxE1jzR0",
        "outputId": "00682dce-38f9-4559-bf87-78c3070dda5b"
      },
      "source": [
        "# Get test data loss and accuracy\n",
        "\n",
        "test_losses = [] # track loss\n",
        "num_correct = 0\n",
        "\n",
        "# init hidden state\n",
        "h = net.init_hidden(batch_size)\n",
        "\n",
        "net.eval()\n",
        "# iterate over test data\n",
        "for inputs, labels in valid_loader:\n",
        "\n",
        "    # Creating new variables for the hidden state, otherwise\n",
        "    # we'd backprop through the entire training history\n",
        "    h = tuple([each.data for each in h])\n",
        "\n",
        "    if(train_on_gpu):\n",
        "        inputs, labels = inputs.cuda(), labels.cuda()\n",
        "    \n",
        "    # get predicted outputs\n",
        "    output, h = net(inputs, h)\n",
        "    \n",
        "    # calculate loss\n",
        "    test_loss = criterion(output.squeeze(), labels.float())\n",
        "    test_losses.append(test_loss.item())\n",
        "    \n",
        "    # convert output probabilities to predicted class (0 or 1)\n",
        "    pred = torch.round(output.squeeze())  # rounds to the nearest integer\n",
        "    \n",
        "    # compare predictions to true label\n",
        "    correct_tensor = pred.eq(labels.float().view_as(pred))\n",
        "    correct = np.squeeze(correct_tensor.numpy()) if not train_on_gpu else np.squeeze(correct_tensor.cpu().numpy())\n",
        "    num_correct += np.sum(correct)\n",
        "\n",
        "\n",
        "# -- stats! -- ##\n",
        "# avg test loss\n",
        "print(\"Test loss: {:.3f}\".format(np.mean(test_losses)))\n",
        "\n",
        "# accuracy over all test data\n",
        "test_acc = num_correct/len(valid_loader.dataset)\n",
        "print(\"Test accuracy: {:.3f}\".format(test_acc))\n"
      ],
      "execution_count": 46,
      "outputs": [
        {
          "output_type": "stream",
          "text": [
            "Test loss: 0.342\n",
            "Test accuracy: 0.933\n"
          ],
          "name": "stdout"
        }
      ]
    }
  ]
}
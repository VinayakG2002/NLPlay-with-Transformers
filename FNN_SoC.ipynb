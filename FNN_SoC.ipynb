{
  "nbformat": 4,
  "nbformat_minor": 0,
  "metadata": {
    "accelerator": "GPU",
    "colab": {
      "name": "Untitled0.ipynb",
      "provenance": [],
      "authorship_tag": "ABX9TyPR4s01rl/Z7Nteyh/Tn0ik",
      "include_colab_link": true
    },
    "kernelspec": {
      "display_name": "Python 3",
      "name": "python3"
    },
    "language_info": {
      "name": "python"
    }
  },
  "cells": [
    {
      "cell_type": "markdown",
      "metadata": {
        "id": "view-in-github",
        "colab_type": "text"
      },
      "source": [
        "<a href=\"https://colab.research.google.com/github/VinayakG2002/README.md/blob/main/FFNN_BOW.ipynb\" target=\"_parent\"><img src=\"https://colab.research.google.com/assets/colab-badge.svg\" alt=\"Open In Colab\"/></a>"
      ]
    },
    {
      "cell_type": "code",
      "metadata": {
        "id": "0jWZIDDTrE-_"
      },
      "source": [
        "import pandas as pd\n",
        "import numpy as np\n",
        "import os\n",
        "import torch\n",
        "import matplotlib.pyplot as plt\n",
        "import nltk\n",
        "import random"
      ],
      "execution_count": 1,
      "outputs": []
    },
    {
      "cell_type": "code",
      "metadata": {
        "id": "RvyJndnirfQV"
      },
      "source": [
        "url='https://raw.githubusercontent.com/VinayakG2002/NLPlay-with-Transformers/main/IMDB%20Dataset.csv?token=ATKA2LIXPHWLGQT64HBC2KLA6XEPW'\n",
        "df = pd.read_csv(url)"
      ],
      "execution_count": 2,
      "outputs": []
    },
    {
      "cell_type": "code",
      "metadata": {
        "colab": {
          "base_uri": "https://localhost:8080/",
          "height": 189
        },
        "id": "zlVdPmoYrg26",
        "outputId": "44d3fd8a-48aa-43d1-e1bc-fba3eea9cf5c"
      },
      "source": [
        "print(df.columns)\n",
        "df.describe()"
      ],
      "execution_count": 3,
      "outputs": [
        {
          "output_type": "stream",
          "text": [
            "Index(['review', 'sentiment'], dtype='object')\n"
          ],
          "name": "stdout"
        },
        {
          "output_type": "execute_result",
          "data": {
            "text/html": [
              "<div>\n",
              "<style scoped>\n",
              "    .dataframe tbody tr th:only-of-type {\n",
              "        vertical-align: middle;\n",
              "    }\n",
              "\n",
              "    .dataframe tbody tr th {\n",
              "        vertical-align: top;\n",
              "    }\n",
              "\n",
              "    .dataframe thead th {\n",
              "        text-align: right;\n",
              "    }\n",
              "</style>\n",
              "<table border=\"1\" class=\"dataframe\">\n",
              "  <thead>\n",
              "    <tr style=\"text-align: right;\">\n",
              "      <th></th>\n",
              "      <th>review</th>\n",
              "      <th>sentiment</th>\n",
              "    </tr>\n",
              "  </thead>\n",
              "  <tbody>\n",
              "    <tr>\n",
              "      <th>count</th>\n",
              "      <td>50000</td>\n",
              "      <td>50000</td>\n",
              "    </tr>\n",
              "    <tr>\n",
              "      <th>unique</th>\n",
              "      <td>49582</td>\n",
              "      <td>2</td>\n",
              "    </tr>\n",
              "    <tr>\n",
              "      <th>top</th>\n",
              "      <td>Loved today's show!!! It was a variety and not...</td>\n",
              "      <td>negative</td>\n",
              "    </tr>\n",
              "    <tr>\n",
              "      <th>freq</th>\n",
              "      <td>5</td>\n",
              "      <td>25000</td>\n",
              "    </tr>\n",
              "  </tbody>\n",
              "</table>\n",
              "</div>"
            ],
            "text/plain": [
              "                                                   review sentiment\n",
              "count                                               50000     50000\n",
              "unique                                              49582         2\n",
              "top     Loved today's show!!! It was a variety and not...  negative\n",
              "freq                                                    5     25000"
            ]
          },
          "metadata": {
            "tags": []
          },
          "execution_count": 3
        }
      ]
    },
    {
      "cell_type": "code",
      "metadata": {
        "colab": {
          "base_uri": "https://localhost:8080/"
        },
        "id": "BxrkGhuSri-n",
        "outputId": "43f2c422-4813-4321-bb76-f42af0cde8e0"
      },
      "source": [
        "nltk.download('stopwords')"
      ],
      "execution_count": 4,
      "outputs": [
        {
          "output_type": "stream",
          "text": [
            "[nltk_data] Downloading package stopwords to /root/nltk_data...\n",
            "[nltk_data]   Unzipping corpora/stopwords.zip.\n"
          ],
          "name": "stdout"
        },
        {
          "output_type": "execute_result",
          "data": {
            "text/plain": [
              "True"
            ]
          },
          "metadata": {
            "tags": []
          },
          "execution_count": 4
        }
      ]
    },
    {
      "cell_type": "code",
      "metadata": {
        "colab": {
          "base_uri": "https://localhost:8080/",
          "height": 120
        },
        "id": "slLdbCXnrpRx",
        "outputId": "e924a809-9724-4eef-dc3b-019f0adbcdc5"
      },
      "source": [
        "df['review'][0]"
      ],
      "execution_count": 5,
      "outputs": [
        {
          "output_type": "execute_result",
          "data": {
            "application/vnd.google.colaboratory.intrinsic+json": {
              "type": "string"
            },
            "text/plain": [
              "\"One of the other reviewers has mentioned that after watching just 1 Oz episode you'll be hooked. They are right, as this is exactly what happened with me.<br /><br />The first thing that struck me about Oz was its brutality and unflinching scenes of violence, which set in right from the word GO. Trust me, this is not a show for the faint hearted or timid. This show pulls no punches with regards to drugs, sex or violence. Its is hardcore, in the classic use of the word.<br /><br />It is called OZ as that is the nickname given to the Oswald Maximum Security State Penitentary. It focuses mainly on Emerald City, an experimental section of the prison where all the cells have glass fronts and face inwards, so privacy is not high on the agenda. Em City is home to many..Aryans, Muslims, gangstas, Latinos, Christians, Italians, Irish and more....so scuffles, death stares, dodgy dealings and shady agreements are never far away.<br /><br />I would say the main appeal of the show is due to the fact that it goes where other shows wouldn't dare. Forget pretty pictures painted for mainstream audiences, forget charm, forget romance...OZ doesn't mess around. The first episode I ever saw struck me as so nasty it was surreal, I couldn't say I was ready for it, but as I watched more, I developed a taste for Oz, and got accustomed to the high levels of graphic violence. Not just violence, but injustice (crooked guards who'll be sold out for a nickel, inmates who'll kill on order and get away with it, well mannered, middle class inmates being turned into prison bitches due to their lack of street skills or prison experience) Watching Oz, you may become comfortable with what is uncomfortable viewing....thats if you can get in touch with your darker side.\""
            ]
          },
          "metadata": {
            "tags": []
          },
          "execution_count": 5
        }
      ]
    },
    {
      "cell_type": "code",
      "metadata": {
        "id": "_AJZn6K6rq0o"
      },
      "source": [
        "from nltk.corpus import stopwords\n",
        "stop_words=stopwords.words('english')\n",
        "df['without stopwords']=df['review'].apply(lambda x:' '.join([word for word in x.split() if word not in (stop_words)]))\n"
      ],
      "execution_count": 6,
      "outputs": []
    },
    {
      "cell_type": "code",
      "metadata": {
        "colab": {
          "base_uri": "https://localhost:8080/",
          "height": 120
        },
        "id": "2VaL3M6urtA7",
        "outputId": "15958b49-31f0-4110-a29e-e5e3086fe15e"
      },
      "source": [
        "df['without stopwords'][0]"
      ],
      "execution_count": 7,
      "outputs": [
        {
          "output_type": "execute_result",
          "data": {
            "application/vnd.google.colaboratory.intrinsic+json": {
              "type": "string"
            },
            "text/plain": [
              "\"One reviewers mentioned watching 1 Oz episode hooked. They right, exactly happened me.<br /><br />The first thing struck Oz brutality unflinching scenes violence, set right word GO. Trust me, show faint hearted timid. This show pulls punches regards drugs, sex violence. Its hardcore, classic use word.<br /><br />It called OZ nickname given Oswald Maximum Security State Penitentary. It focuses mainly Emerald City, experimental section prison cells glass fronts face inwards, privacy high agenda. Em City home many..Aryans, Muslims, gangstas, Latinos, Christians, Italians, Irish more....so scuffles, death stares, dodgy dealings shady agreements never far away.<br /><br />I would say main appeal show due fact goes shows dare. Forget pretty pictures painted mainstream audiences, forget charm, forget romance...OZ mess around. The first episode I ever saw struck nasty surreal, I say I ready it, I watched more, I developed taste Oz, got accustomed high levels graphic violence. Not violence, injustice (crooked guards who'll sold nickel, inmates who'll kill order get away it, well mannered, middle class inmates turned prison bitches due lack street skills prison experience) Watching Oz, may become comfortable uncomfortable viewing....thats get touch darker side.\""
            ]
          },
          "metadata": {
            "tags": []
          },
          "execution_count": 7
        }
      ]
    },
    {
      "cell_type": "code",
      "metadata": {
        "id": "0SRqXeIPrwag"
      },
      "source": [
        "def remove_punctuation(text):\n",
        "    final = \"\".join(u for u in text if u not in (\"?\", \".\", \";\", \":\", \"!\", '\"', ','))\n",
        "    return final\n",
        "\n",
        "df['without stopwords'] = df['without stopwords'].apply(remove_punctuation)"
      ],
      "execution_count": 8,
      "outputs": []
    },
    {
      "cell_type": "code",
      "metadata": {
        "id": "0D6iL6uzryYn"
      },
      "source": [
        "def remove_tag(text):\n",
        "  final=\"\"\n",
        "  x=True\n",
        "  for letter in text:\n",
        "    if letter=='<':\n",
        "      x=False\n",
        "    if x==True:\n",
        "      final=final + letter\n",
        "    if letter=='>':\n",
        "      x=True\n",
        "      final= final+ \" \"\n",
        "  return final\n",
        "df['without stopwords'] = df['without stopwords'].apply(remove_tag)"
      ],
      "execution_count": 9,
      "outputs": []
    },
    {
      "cell_type": "code",
      "metadata": {
        "colab": {
          "base_uri": "https://localhost:8080/",
          "height": 120
        },
        "id": "4yf906Ssr0Mt",
        "outputId": "92863466-1844-4cbf-cc5d-8064b2787a92"
      },
      "source": [
        "df['without stopwords'][0]"
      ],
      "execution_count": 10,
      "outputs": [
        {
          "output_type": "execute_result",
          "data": {
            "application/vnd.google.colaboratory.intrinsic+json": {
              "type": "string"
            },
            "text/plain": [
              "\"One reviewers mentioned watching 1 Oz episode hooked They right exactly happened me  The first thing struck Oz brutality unflinching scenes violence set right word GO Trust me show faint hearted timid This show pulls punches regards drugs sex violence Its hardcore classic use word  It called OZ nickname given Oswald Maximum Security State Penitentary It focuses mainly Emerald City experimental section prison cells glass fronts face inwards privacy high agenda Em City home manyAryans Muslims gangstas Latinos Christians Italians Irish moreso scuffles death stares dodgy dealings shady agreements never far away  I would say main appeal show due fact goes shows dare Forget pretty pictures painted mainstream audiences forget charm forget romanceOZ mess around The first episode I ever saw struck nasty surreal I say I ready it I watched more I developed taste Oz got accustomed high levels graphic violence Not violence injustice (crooked guards who'll sold nickel inmates who'll kill order get away it well mannered middle class inmates turned prison bitches due lack street skills prison experience) Watching Oz may become comfortable uncomfortable viewingthats get touch darker side\""
            ]
          },
          "metadata": {
            "tags": []
          },
          "execution_count": 10
        }
      ]
    },
    {
      "cell_type": "code",
      "metadata": {
        "colab": {
          "base_uri": "https://localhost:8080/"
        },
        "id": "NTG5UnWwr2JH",
        "outputId": "402d610e-36c5-4ccc-994c-9f97e736efbd"
      },
      "source": [
        "nltk.download('punkt')\n",
        "df['tokenized']=df['without stopwords'].apply(nltk.word_tokenize)"
      ],
      "execution_count": 11,
      "outputs": [
        {
          "output_type": "stream",
          "text": [
            "[nltk_data] Downloading package punkt to /root/nltk_data...\n",
            "[nltk_data]   Unzipping tokenizers/punkt.zip.\n"
          ],
          "name": "stdout"
        }
      ]
    },
    {
      "cell_type": "code",
      "metadata": {
        "id": "aU8M5g5Ar31c"
      },
      "source": [
        "def stemmer(input):\n",
        "  output= [nltk.stem.PorterStemmer().stem(word) for word in input]\n",
        "  return output\n",
        "df['stemmed tokens']=df['tokenized'].apply(stemmer)"
      ],
      "execution_count": 12,
      "outputs": []
    },
    {
      "cell_type": "code",
      "metadata": {
        "id": "4fzDHjqCr5ZO"
      },
      "source": [
        "df['label']=[2*(sentiment=='positive')-1 for sentiment in df['sentiment']]"
      ],
      "execution_count": 13,
      "outputs": []
    },
    {
      "cell_type": "code",
      "metadata": {
        "colab": {
          "base_uri": "https://localhost:8080/",
          "height": 407
        },
        "id": "B69UD6VGr8eM",
        "outputId": "04438370-8403-4821-a2e2-10f458fea188"
      },
      "source": [
        "df.head(10)"
      ],
      "execution_count": 14,
      "outputs": [
        {
          "output_type": "execute_result",
          "data": {
            "text/html": [
              "<div>\n",
              "<style scoped>\n",
              "    .dataframe tbody tr th:only-of-type {\n",
              "        vertical-align: middle;\n",
              "    }\n",
              "\n",
              "    .dataframe tbody tr th {\n",
              "        vertical-align: top;\n",
              "    }\n",
              "\n",
              "    .dataframe thead th {\n",
              "        text-align: right;\n",
              "    }\n",
              "</style>\n",
              "<table border=\"1\" class=\"dataframe\">\n",
              "  <thead>\n",
              "    <tr style=\"text-align: right;\">\n",
              "      <th></th>\n",
              "      <th>review</th>\n",
              "      <th>sentiment</th>\n",
              "      <th>without stopwords</th>\n",
              "      <th>tokenized</th>\n",
              "      <th>stemmed tokens</th>\n",
              "      <th>label</th>\n",
              "    </tr>\n",
              "  </thead>\n",
              "  <tbody>\n",
              "    <tr>\n",
              "      <th>0</th>\n",
              "      <td>One of the other reviewers has mentioned that ...</td>\n",
              "      <td>positive</td>\n",
              "      <td>One reviewers mentioned watching 1 Oz episode ...</td>\n",
              "      <td>[One, reviewers, mentioned, watching, 1, Oz, e...</td>\n",
              "      <td>[one, review, mention, watch, 1, Oz, episod, h...</td>\n",
              "      <td>1</td>\n",
              "    </tr>\n",
              "    <tr>\n",
              "      <th>1</th>\n",
              "      <td>A wonderful little production. &lt;br /&gt;&lt;br /&gt;The...</td>\n",
              "      <td>positive</td>\n",
              "      <td>A wonderful little production   The filming te...</td>\n",
              "      <td>[A, wonderful, little, production, The, filmin...</td>\n",
              "      <td>[A, wonder, littl, product, the, film, techniq...</td>\n",
              "      <td>1</td>\n",
              "    </tr>\n",
              "    <tr>\n",
              "      <th>2</th>\n",
              "      <td>I thought this was a wonderful way to spend ti...</td>\n",
              "      <td>positive</td>\n",
              "      <td>I thought wonderful way spend time hot summer ...</td>\n",
              "      <td>[I, thought, wonderful, way, spend, time, hot,...</td>\n",
              "      <td>[I, thought, wonder, way, spend, time, hot, su...</td>\n",
              "      <td>1</td>\n",
              "    </tr>\n",
              "    <tr>\n",
              "      <th>3</th>\n",
              "      <td>Basically there's a family where a little boy ...</td>\n",
              "      <td>negative</td>\n",
              "      <td>Basically there's family little boy (Jake) thi...</td>\n",
              "      <td>[Basically, there, 's, family, little, boy, (,...</td>\n",
              "      <td>[basic, there, 's, famili, littl, boy, (, jake...</td>\n",
              "      <td>-1</td>\n",
              "    </tr>\n",
              "    <tr>\n",
              "      <th>4</th>\n",
              "      <td>Petter Mattei's \"Love in the Time of Money\" is...</td>\n",
              "      <td>positive</td>\n",
              "      <td>Petter Mattei's Love Time Money visually stunn...</td>\n",
              "      <td>[Petter, Mattei, 's, Love, Time, Money, visual...</td>\n",
              "      <td>[petter, mattei, 's, love, time, money, visual...</td>\n",
              "      <td>1</td>\n",
              "    </tr>\n",
              "    <tr>\n",
              "      <th>5</th>\n",
              "      <td>Probably my all-time favorite movie, a story o...</td>\n",
              "      <td>positive</td>\n",
              "      <td>Probably all-time favorite movie story selfles...</td>\n",
              "      <td>[Probably, all-time, favorite, movie, story, s...</td>\n",
              "      <td>[probabl, all-tim, favorit, movi, stori, selfl...</td>\n",
              "      <td>1</td>\n",
              "    </tr>\n",
              "    <tr>\n",
              "      <th>6</th>\n",
              "      <td>I sure would like to see a resurrection of a u...</td>\n",
              "      <td>positive</td>\n",
              "      <td>I sure would like see resurrection dated Seahu...</td>\n",
              "      <td>[I, sure, would, like, see, resurrection, date...</td>\n",
              "      <td>[I, sure, would, like, see, resurrect, date, s...</td>\n",
              "      <td>1</td>\n",
              "    </tr>\n",
              "    <tr>\n",
              "      <th>7</th>\n",
              "      <td>This show was an amazing, fresh &amp; innovative i...</td>\n",
              "      <td>negative</td>\n",
              "      <td>This show amazing fresh &amp; innovative idea 70's...</td>\n",
              "      <td>[This, show, amazing, fresh, &amp;, innovative, id...</td>\n",
              "      <td>[thi, show, amaz, fresh, &amp;, innov, idea, 70, '...</td>\n",
              "      <td>-1</td>\n",
              "    </tr>\n",
              "    <tr>\n",
              "      <th>8</th>\n",
              "      <td>Encouraged by the positive comments about this...</td>\n",
              "      <td>negative</td>\n",
              "      <td>Encouraged positive comments film I looking fo...</td>\n",
              "      <td>[Encouraged, positive, comments, film, I, look...</td>\n",
              "      <td>[encourag, posit, comment, film, I, look, forw...</td>\n",
              "      <td>-1</td>\n",
              "    </tr>\n",
              "    <tr>\n",
              "      <th>9</th>\n",
              "      <td>If you like original gut wrenching laughter yo...</td>\n",
              "      <td>positive</td>\n",
              "      <td>If like original gut wrenching laughter like m...</td>\n",
              "      <td>[If, like, original, gut, wrenching, laughter,...</td>\n",
              "      <td>[If, like, origin, gut, wrench, laughter, like...</td>\n",
              "      <td>1</td>\n",
              "    </tr>\n",
              "  </tbody>\n",
              "</table>\n",
              "</div>"
            ],
            "text/plain": [
              "                                              review  ... label\n",
              "0  One of the other reviewers has mentioned that ...  ...     1\n",
              "1  A wonderful little production. <br /><br />The...  ...     1\n",
              "2  I thought this was a wonderful way to spend ti...  ...     1\n",
              "3  Basically there's a family where a little boy ...  ...    -1\n",
              "4  Petter Mattei's \"Love in the Time of Money\" is...  ...     1\n",
              "5  Probably my all-time favorite movie, a story o...  ...     1\n",
              "6  I sure would like to see a resurrection of a u...  ...     1\n",
              "7  This show was an amazing, fresh & innovative i...  ...    -1\n",
              "8  Encouraged by the positive comments about this...  ...    -1\n",
              "9  If you like original gut wrenching laughter yo...  ...     1\n",
              "\n",
              "[10 rows x 6 columns]"
            ]
          },
          "metadata": {
            "tags": []
          },
          "execution_count": 14
        }
      ]
    },
    {
      "cell_type": "code",
      "metadata": {
        "id": "yZSzeZ7er9zs"
      },
      "source": [
        "\n",
        "from gensim import corpora\n",
        "\n",
        "review_dict = corpora.Dictionary(df['stemmed tokens'])"
      ],
      "execution_count": 15,
      "outputs": []
    },
    {
      "cell_type": "code",
      "metadata": {
        "colab": {
          "base_uri": "https://localhost:8080/"
        },
        "id": "3fybFeiBr_qK",
        "outputId": "cc30d50d-bb96-461a-8536-62fcddca1281"
      },
      "source": [
        "print(review_dict)"
      ],
      "execution_count": 16,
      "outputs": [
        {
          "output_type": "stream",
          "text": [
            "Dictionary(133824 unique tokens: [\"'ll\", '(', ')', '1', 'Em']...)\n"
          ],
          "name": "stdout"
        }
      ]
    },
    {
      "cell_type": "code",
      "metadata": {
        "colab": {
          "base_uri": "https://localhost:8080/"
        },
        "id": "YET56EB6sBDH",
        "outputId": "a5496837-dea6-4311-bd45-ea946776e3b1"
      },
      "source": [
        "from sklearn.model_selection import train_test_split\n",
        "# Train Test Split Function\n",
        "\n",
        "def split_train_test(top_data_df_small, test_size=0.3, shuffle_state=True):\n",
        "    X_train, X_test, Y_train, Y_test = train_test_split(top_data_df_small[['review','sentiment','without stopwords','tokenized','stemmed tokens','label']], \n",
        "                                                        top_data_df_small['label'], \n",
        "                                                        shuffle=shuffle_state,\n",
        "                                                        test_size=test_size, \n",
        "                                                        random_state=15)\n",
        "    print(\"Value counts for Train sentiments\")\n",
        "    print(Y_train.value_counts())\n",
        "    print(\"Value counts for Test sentiments\")\n",
        "    print(Y_test.value_counts())\n",
        "    print(type(X_train))\n",
        "    print(type(Y_train))\n",
        "    X_train = X_train.reset_index()\n",
        "    X_test = X_test.reset_index()\n",
        "    Y_train = Y_train.to_frame()\n",
        "    Y_train = Y_train.reset_index()\n",
        "    Y_test = Y_test.to_frame()\n",
        "    Y_test = Y_test.reset_index()\n",
        "    print(X_train.head())\n",
        "    return X_train, X_test, Y_train, Y_test\n",
        "\n",
        "# Call the train_test_split\n",
        "X_train, X_test, Y_train, Y_test = split_train_test(df)"
      ],
      "execution_count": 17,
      "outputs": [
        {
          "output_type": "stream",
          "text": [
            "Value counts for Train sentiments\n",
            "-1    17512\n",
            " 1    17488\n",
            "Name: label, dtype: int64\n",
            "Value counts for Test sentiments\n",
            " 1    7512\n",
            "-1    7488\n",
            "Name: label, dtype: int64\n",
            "<class 'pandas.core.frame.DataFrame'>\n",
            "<class 'pandas.core.series.Series'>\n",
            "   index  ... label\n",
            "0  36322  ...     1\n",
            "1   4638  ...     1\n",
            "2  46808  ...    -1\n",
            "3  38099  ...    -1\n",
            "4  31461  ...     1\n",
            "\n",
            "[5 rows x 7 columns]\n"
          ],
          "name": "stdout"
        }
      ]
    },
    {
      "cell_type": "code",
      "metadata": {
        "colab": {
          "base_uri": "https://localhost:8080/",
          "height": 585
        },
        "id": "6y11keyksCgF",
        "outputId": "3d77769d-e045-466b-fc38-e6df2fef1e6d"
      },
      "source": [
        "X_train\n"
      ],
      "execution_count": 18,
      "outputs": [
        {
          "output_type": "execute_result",
          "data": {
            "text/html": [
              "<div>\n",
              "<style scoped>\n",
              "    .dataframe tbody tr th:only-of-type {\n",
              "        vertical-align: middle;\n",
              "    }\n",
              "\n",
              "    .dataframe tbody tr th {\n",
              "        vertical-align: top;\n",
              "    }\n",
              "\n",
              "    .dataframe thead th {\n",
              "        text-align: right;\n",
              "    }\n",
              "</style>\n",
              "<table border=\"1\" class=\"dataframe\">\n",
              "  <thead>\n",
              "    <tr style=\"text-align: right;\">\n",
              "      <th></th>\n",
              "      <th>index</th>\n",
              "      <th>review</th>\n",
              "      <th>sentiment</th>\n",
              "      <th>without stopwords</th>\n",
              "      <th>tokenized</th>\n",
              "      <th>stemmed tokens</th>\n",
              "      <th>label</th>\n",
              "    </tr>\n",
              "  </thead>\n",
              "  <tbody>\n",
              "    <tr>\n",
              "      <th>0</th>\n",
              "      <td>36322</td>\n",
              "      <td>The sequel is exactly what you will expect it ...</td>\n",
              "      <td>positive</td>\n",
              "      <td>The sequel exactly expect be And good enough e...</td>\n",
              "      <td>[The, sequel, exactly, expect, be, And, good, ...</td>\n",
              "      <td>[the, sequel, exactli, expect, be, and, good, ...</td>\n",
              "      <td>1</td>\n",
              "    </tr>\n",
              "    <tr>\n",
              "      <th>1</th>\n",
              "      <td>4638</td>\n",
              "      <td>This is a pretty well known one so i won't get...</td>\n",
              "      <td>positive</td>\n",
              "      <td>This pretty well known one get deep it The bas...</td>\n",
              "      <td>[This, pretty, well, known, one, get, deep, it...</td>\n",
              "      <td>[thi, pretti, well, known, one, get, deep, it,...</td>\n",
              "      <td>1</td>\n",
              "    </tr>\n",
              "    <tr>\n",
              "      <th>2</th>\n",
              "      <td>46808</td>\n",
              "      <td>I made the mistake of buying this since I coll...</td>\n",
              "      <td>negative</td>\n",
              "      <td>I made mistake buying since I collect comic bo...</td>\n",
              "      <td>[I, made, mistake, buying, since, I, collect, ...</td>\n",
              "      <td>[I, made, mistak, buy, sinc, I, collect, comic...</td>\n",
              "      <td>-1</td>\n",
              "    </tr>\n",
              "    <tr>\n",
              "      <th>3</th>\n",
              "      <td>38099</td>\n",
              "      <td>This movie is the proverbial 80s flick that sh...</td>\n",
              "      <td>negative</td>\n",
              "      <td>This movie proverbial 80s flick shows viewer l...</td>\n",
              "      <td>[This, movie, proverbial, 80s, flick, shows, v...</td>\n",
              "      <td>[thi, movi, proverbi, 80, flick, show, viewer,...</td>\n",
              "      <td>-1</td>\n",
              "    </tr>\n",
              "    <tr>\n",
              "      <th>4</th>\n",
              "      <td>31461</td>\n",
              "      <td>I absolutely LOVED this movie as a child. I ca...</td>\n",
              "      <td>positive</td>\n",
              "      <td>I absolutely LOVED movie child I can't seem fi...</td>\n",
              "      <td>[I, absolutely, LOVED, movie, child, I, ca, n'...</td>\n",
              "      <td>[I, absolut, love, movi, child, I, ca, n't, se...</td>\n",
              "      <td>1</td>\n",
              "    </tr>\n",
              "    <tr>\n",
              "      <th>...</th>\n",
              "      <td>...</td>\n",
              "      <td>...</td>\n",
              "      <td>...</td>\n",
              "      <td>...</td>\n",
              "      <td>...</td>\n",
              "      <td>...</td>\n",
              "      <td>...</td>\n",
              "    </tr>\n",
              "    <tr>\n",
              "      <th>34995</th>\n",
              "      <td>39296</td>\n",
              "      <td>When i started watching \"Surface\"for the first...</td>\n",
              "      <td>positive</td>\n",
              "      <td>When started watching Surfacefor first time ho...</td>\n",
              "      <td>[When, started, watching, Surfacefor, first, t...</td>\n",
              "      <td>[when, start, watch, surfacefor, first, time, ...</td>\n",
              "      <td>1</td>\n",
              "    </tr>\n",
              "    <tr>\n",
              "      <th>34996</th>\n",
              "      <td>49015</td>\n",
              "      <td>Are you kidding me? This is quite possibly the...</td>\n",
              "      <td>negative</td>\n",
              "      <td>Are kidding me This quite possibly worst amate...</td>\n",
              "      <td>[Are, kidding, me, This, quite, possibly, wors...</td>\n",
              "      <td>[are, kid, me, thi, quit, possibl, worst, amat...</td>\n",
              "      <td>-1</td>\n",
              "    </tr>\n",
              "    <tr>\n",
              "      <th>34997</th>\n",
              "      <td>2693</td>\n",
              "      <td>One would make you believe that this game is a...</td>\n",
              "      <td>negative</td>\n",
              "      <td>One would make believe game man obsessed numbe...</td>\n",
              "      <td>[One, would, make, believe, game, man, obsesse...</td>\n",
              "      <td>[one, would, make, believ, game, man, obsess, ...</td>\n",
              "      <td>-1</td>\n",
              "    </tr>\n",
              "    <tr>\n",
              "      <th>34998</th>\n",
              "      <td>8076</td>\n",
              "      <td>I'D BUY THAT FOR A DOLLAR!!!&lt;br /&gt;&lt;br /&gt;I did ...</td>\n",
              "      <td>positive</td>\n",
              "      <td>I'D BUY THAT FOR A DOLLAR  I buy film dollar I...</td>\n",
              "      <td>[I, 'D, BUY, THAT, FOR, A, DOLLAR, I, buy, fil...</td>\n",
              "      <td>[I, 'D, buy, that, for, A, dollar, I, buy, fil...</td>\n",
              "      <td>1</td>\n",
              "    </tr>\n",
              "    <tr>\n",
              "      <th>34999</th>\n",
              "      <td>7624</td>\n",
              "      <td>Seems to have been made as a vehicle for W.C. ...</td>\n",
              "      <td>positive</td>\n",
              "      <td>Seems made vehicle WC Fields Carol Dempster do...</td>\n",
              "      <td>[Seems, made, vehicle, WC, Fields, Carol, Demp...</td>\n",
              "      <td>[seem, made, vehicl, WC, field, carol, dempste...</td>\n",
              "      <td>1</td>\n",
              "    </tr>\n",
              "  </tbody>\n",
              "</table>\n",
              "<p>35000 rows × 7 columns</p>\n",
              "</div>"
            ],
            "text/plain": [
              "       index  ... label\n",
              "0      36322  ...     1\n",
              "1       4638  ...     1\n",
              "2      46808  ...    -1\n",
              "3      38099  ...    -1\n",
              "4      31461  ...     1\n",
              "...      ...  ...   ...\n",
              "34995  39296  ...     1\n",
              "34996  49015  ...    -1\n",
              "34997   2693  ...    -1\n",
              "34998   8076  ...     1\n",
              "34999   7624  ...     1\n",
              "\n",
              "[35000 rows x 7 columns]"
            ]
          },
          "metadata": {
            "tags": []
          },
          "execution_count": 18
        }
      ]
    },
    {
      "cell_type": "code",
      "metadata": {
        "colab": {
          "base_uri": "https://localhost:8080/"
        },
        "id": "0bT9EytCsE6Y",
        "outputId": "e5dc4aa1-26fe-437d-d43e-d3bc8bdc1f16"
      },
      "source": [
        "import torch.nn as nn\n",
        "import torch.nn.functional as F\n",
        "import torch.optim as optim\n",
        "\n",
        "device = torch.device(\"cuda\" if torch.cuda.is_available() else \"cpu\")\n",
        "print(\"Device available for running: \")\n",
        "print(device)"
      ],
      "execution_count": 19,
      "outputs": [
        {
          "output_type": "stream",
          "text": [
            "Device available for running: \n",
            "cuda\n"
          ],
          "name": "stdout"
        }
      ]
    },
    {
      "cell_type": "code",
      "metadata": {
        "id": "M6ve_39hsG0d"
      },
      "source": [
        "# define FeedforwardNeuralNetwork\n",
        "class FeedForwardNN(nn.Module):\n",
        "    def __init__(self,input_size,hidden_size,output_size):\n",
        "        super(FeedForwardNN,self).__init__()\n",
        "        \n",
        "        # Linear fnction 1\n",
        "        self.LF1 = nn.Linear(input_size,hidden_size)\n",
        "        # Nonlinear fnction 1\n",
        "        self.NLF1 = nn.ReLU()\n",
        "        \n",
        "        # Linear function 2\n",
        "        self.LF2 = nn.Linear(hidden_size,hidden_size)\n",
        "        # Nonlinear fnction 2\n",
        "        self.NLF2 = nn.ReLU()\n",
        "        \n",
        "        #Linear function 2\n",
        "        self.LF3 = nn.Linear(hidden_size,output_size)\n",
        "        \n",
        "    def forward(self,x):\n",
        "        # Layer 1\n",
        "        out = self.LF1(x)\n",
        "        out = self.NLF1(out)\n",
        "        \n",
        "        #Layer 2 \n",
        "        out = self.LF2(out)\n",
        "        out = self.NLF2(out)\n",
        "        \n",
        "        #Layer 3\n",
        "        out = self.LF3(out)\n",
        "        \n",
        "        return F.softmax(out,dim=1)"
      ],
      "execution_count": 20,
      "outputs": []
    },
    {
      "cell_type": "code",
      "metadata": {
        "id": "tVvwxZdRsJRp"
      },
      "source": [
        "\n",
        "VOCAB_SIZE = len(review_dict)\n",
        "NUM_LABELS = 2\n",
        "\n",
        "def make_bow_vector(review_dict, sentence):\n",
        "    vec = torch.zeros(VOCAB_SIZE, dtype=torch.float64, device=device)\n",
        "    for word in sentence:\n",
        "        vec[review_dict.token2id[word]] += 1\n",
        "    return vec.view(1, -1).float()"
      ],
      "execution_count": 21,
      "outputs": []
    },
    {
      "cell_type": "code",
      "metadata": {
        "id": "gl6tZM9UsLPf"
      },
      "source": [
        "\n",
        "def make_pred(label):\n",
        "    if label == -1:\n",
        "        return torch.tensor([0], dtype = torch.long, device = device)\n",
        "    elif label == 1:\n",
        "        return torch.tensor([1], dtype = torch.long, device = device)"
      ],
      "execution_count": 22,
      "outputs": []
    },
    {
      "cell_type": "code",
      "metadata": {
        "id": "CmcDAXgmsM4y"
      },
      "source": [
        "def train(num_epochs,batch_size,optimizer,loss_function = nn.CrossEntropyLoss()):\n",
        "  losses = []\n",
        "  task_len = num_epochs *len(X_train)\n",
        "  ittr = 0\n",
        "  for epoch in range(num_epochs):\n",
        "      train_loss = torch.tensor([0.],device = device)\n",
        "      for index,row in X_train.iterrows():\n",
        "          ittr+=1\n",
        "          if ittr%(task_len//100) == 0:\n",
        "            print(ittr*100//(task_len),'% complemeted')\n",
        "          # make bag of word vector \n",
        "          bow_vec = make_bow_vector(review_dict,row['stemmed tokens'])\n",
        "        \n",
        "          # Forward pass\n",
        "          preds = FFNN(bow_vec)\n",
        "        \n",
        "          # get target label\n",
        "          target = make_pred(Y_train['label'][index])\n",
        "\n",
        "          loss = loss_function(preds, target)\n",
        "  \n",
        "          train_loss +=loss\n",
        "        \n",
        "          if ittr%batch_size ==0:\n",
        "            # clear gradients\n",
        "            optimizer.zero_grad()\n",
        "\n",
        "            # compute gradientts\n",
        "            train_loss.backward()\n",
        "\n",
        "            # update parameters\n",
        "            optimizer.step()\n",
        "            \n",
        "            losses.append(train_loss.item())\n",
        "            train_loss = 0.\n",
        "  return losses"
      ],
      "execution_count": 23,
      "outputs": []
    },
    {
      "cell_type": "code",
      "metadata": {
        "id": "gMQ1b8YlsO6W"
      },
      "source": [
        "def accuracy():\n",
        "  correct_preds = 0\n",
        "  for index,row in X_test.iterrows():\n",
        "    bow_vec = make_bow_vector(review_dict,row['stemmed tokens'])\n",
        "    # Forward pass\n",
        "    preds = list(FFNN(bow_vec)[0])\n",
        "    if preds[0]>preds[1]:\n",
        "      out = -1\n",
        "    else :\n",
        "      out = +1\n",
        "    if out == row['label']:\n",
        "      correct_preds+=1\n",
        "  \n",
        "  return correct_preds*100/len(X_test)\n",
        "\n",
        "def plot_loss(losses):\n",
        "  x = [i for i in range(0,len(losses))]\n",
        "  plt.plot(x,losses)\n",
        "  plt.title('Loss fnction')\n",
        "  plt.ylabel('Loss')\n",
        "  plt.xlabel('batch index')"
      ],
      "execution_count": 24,
      "outputs": []
    },
    {
      "cell_type": "code",
      "metadata": {
        "id": "bPVGnusOsQvk"
      },
      "source": [
        "VOCAB_SIZE = len(review_dict)\n",
        "\n",
        "input_size = VOCAB_SIZE\n",
        "hidden_dim = 500\n",
        "output_size = 2\n",
        "num_epochs = 2\n",
        "batch_size = 200\n",
        "\n",
        "FFNN = FeedForwardNN(input_size,hidden_dim,output_size)\n",
        "FFNN.to(device)\n",
        "loss_function = nn.CrossEntropyLoss()\n",
        "optimizer = optim.SGD(FFNN.parameters(), lr = 0.005)\n"
      ],
      "execution_count": 25,
      "outputs": []
    },
    {
      "cell_type": "code",
      "metadata": {
        "colab": {
          "base_uri": "https://localhost:8080/"
        },
        "id": "_V0PmEqfsTbM",
        "outputId": "2e5eb2c0-8bb6-45c3-de86-ef908e3660ca"
      },
      "source": [
        "losses = train(num_epochs,200,optimizer)"
      ],
      "execution_count": 26,
      "outputs": [
        {
          "output_type": "stream",
          "text": [
            "1 % complemeted\n",
            "2 % complemeted\n",
            "3 % complemeted\n",
            "4 % complemeted\n",
            "5 % complemeted\n",
            "6 % complemeted\n",
            "7 % complemeted\n",
            "8 % complemeted\n",
            "9 % complemeted\n",
            "10 % complemeted\n",
            "11 % complemeted\n",
            "12 % complemeted\n",
            "13 % complemeted\n",
            "14 % complemeted\n",
            "15 % complemeted\n",
            "16 % complemeted\n",
            "17 % complemeted\n",
            "18 % complemeted\n",
            "19 % complemeted\n",
            "20 % complemeted\n",
            "21 % complemeted\n",
            "22 % complemeted\n",
            "23 % complemeted\n",
            "24 % complemeted\n",
            "25 % complemeted\n",
            "26 % complemeted\n",
            "27 % complemeted\n",
            "28 % complemeted\n",
            "29 % complemeted\n",
            "30 % complemeted\n",
            "31 % complemeted\n",
            "32 % complemeted\n",
            "33 % complemeted\n",
            "34 % complemeted\n",
            "35 % complemeted\n",
            "36 % complemeted\n",
            "37 % complemeted\n",
            "38 % complemeted\n",
            "39 % complemeted\n",
            "40 % complemeted\n",
            "41 % complemeted\n",
            "42 % complemeted\n",
            "43 % complemeted\n",
            "44 % complemeted\n",
            "45 % complemeted\n",
            "46 % complemeted\n",
            "47 % complemeted\n",
            "48 % complemeted\n",
            "49 % complemeted\n",
            "50 % complemeted\n",
            "51 % complemeted\n",
            "52 % complemeted\n",
            "53 % complemeted\n",
            "54 % complemeted\n",
            "55 % complemeted\n",
            "56 % complemeted\n",
            "57 % complemeted\n",
            "58 % complemeted\n",
            "59 % complemeted\n",
            "60 % complemeted\n",
            "61 % complemeted\n",
            "62 % complemeted\n",
            "63 % complemeted\n",
            "64 % complemeted\n",
            "65 % complemeted\n",
            "66 % complemeted\n",
            "67 % complemeted\n",
            "68 % complemeted\n",
            "69 % complemeted\n",
            "70 % complemeted\n",
            "71 % complemeted\n",
            "72 % complemeted\n",
            "73 % complemeted\n",
            "74 % complemeted\n",
            "75 % complemeted\n",
            "76 % complemeted\n",
            "77 % complemeted\n",
            "78 % complemeted\n",
            "79 % complemeted\n",
            "80 % complemeted\n",
            "81 % complemeted\n",
            "82 % complemeted\n",
            "83 % complemeted\n",
            "84 % complemeted\n",
            "85 % complemeted\n",
            "86 % complemeted\n",
            "87 % complemeted\n",
            "88 % complemeted\n",
            "89 % complemeted\n",
            "90 % complemeted\n",
            "91 % complemeted\n",
            "92 % complemeted\n",
            "93 % complemeted\n",
            "94 % complemeted\n",
            "95 % complemeted\n",
            "96 % complemeted\n",
            "97 % complemeted\n",
            "98 % complemeted\n",
            "99 % complemeted\n",
            "100 % complemeted\n"
          ],
          "name": "stdout"
        }
      ]
    },
    {
      "cell_type": "code",
      "metadata": {
        "colab": {
          "base_uri": "https://localhost:8080/"
        },
        "id": "CB6qSAvOsVoA",
        "outputId": "b423e913-9b7c-4bcf-be37-bb0773698b1c"
      },
      "source": [
        "accuracy()\n"
      ],
      "execution_count": 27,
      "outputs": [
        {
          "output_type": "execute_result",
          "data": {
            "text/plain": [
              "86.64"
            ]
          },
          "metadata": {
            "tags": []
          },
          "execution_count": 27
        }
      ]
    },
    {
      "cell_type": "code",
      "metadata": {
        "colab": {
          "base_uri": "https://localhost:8080/",
          "height": 295
        },
        "id": "2_Z3QMgssXeJ",
        "outputId": "e13ded64-4364-4569-f618-8d80865a1f05"
      },
      "source": [
        "plot_loss(losses)"
      ],
      "execution_count": 28,
      "outputs": [
        {
          "output_type": "display_data",
          "data": {
            "image/png": "[encoded data removed]",
            "text/plain": [
              "<Figure size 432x288 with 1 Axes>"
            ]
          },
          "metadata": {
            "tags": [],
            "needs_background": "light"
          }
        }
      ]
    },
    {
      "cell_type": "code",
      "metadata": {
        "colab": {
          "base_uri": "https://localhost:8080/"
        },
        "id": "plqPSQGOsZam",
        "outputId": "e910c668-a48f-4e62-91d6-b1969bc8e535"
      },
      "source": [
        "optimizer = optim.SGD(FFNN.parameters(), lr = 0.001)\n",
        "num_epochs = 2\n",
        "batch_size = 100\n",
        "losses = train(num_epochs,batch_size,optimizer)"
      ],
      "execution_count": 29,
      "outputs": [
        {
          "output_type": "stream",
          "text": [
            "1 % complemeted\n",
            "2 % complemeted\n",
            "3 % complemeted\n",
            "4 % complemeted\n",
            "5 % complemeted\n",
            "6 % complemeted\n",
            "7 % complemeted\n",
            "8 % complemeted\n",
            "9 % complemeted\n",
            "10 % complemeted\n",
            "11 % complemeted\n",
            "12 % complemeted\n",
            "13 % complemeted\n",
            "14 % complemeted\n",
            "15 % complemeted\n",
            "16 % complemeted\n",
            "17 % complemeted\n",
            "18 % complemeted\n",
            "19 % complemeted\n",
            "20 % complemeted\n",
            "21 % complemeted\n",
            "22 % complemeted\n",
            "23 % complemeted\n",
            "24 % complemeted\n",
            "25 % complemeted\n",
            "26 % complemeted\n",
            "27 % complemeted\n",
            "28 % complemeted\n",
            "29 % complemeted\n",
            "30 % complemeted\n",
            "31 % complemeted\n",
            "32 % complemeted\n",
            "33 % complemeted\n",
            "34 % complemeted\n",
            "35 % complemeted\n",
            "36 % complemeted\n",
            "37 % complemeted\n",
            "38 % complemeted\n",
            "39 % complemeted\n",
            "40 % complemeted\n",
            "41 % complemeted\n",
            "42 % complemeted\n",
            "43 % complemeted\n",
            "44 % complemeted\n",
            "45 % complemeted\n",
            "46 % complemeted\n",
            "47 % complemeted\n",
            "48 % complemeted\n",
            "49 % complemeted\n",
            "50 % complemeted\n",
            "51 % complemeted\n",
            "52 % complemeted\n",
            "53 % complemeted\n",
            "54 % complemeted\n",
            "55 % complemeted\n",
            "56 % complemeted\n",
            "57 % complemeted\n",
            "58 % complemeted\n",
            "59 % complemeted\n",
            "60 % complemeted\n",
            "61 % complemeted\n",
            "62 % complemeted\n",
            "63 % complemeted\n",
            "64 % complemeted\n",
            "65 % complemeted\n",
            "66 % complemeted\n",
            "67 % complemeted\n",
            "68 % complemeted\n",
            "69 % complemeted\n",
            "70 % complemeted\n",
            "71 % complemeted\n",
            "72 % complemeted\n",
            "73 % complemeted\n",
            "74 % complemeted\n",
            "75 % complemeted\n",
            "76 % complemeted\n",
            "77 % complemeted\n",
            "78 % complemeted\n",
            "79 % complemeted\n",
            "80 % complemeted\n",
            "81 % complemeted\n",
            "82 % complemeted\n",
            "83 % complemeted\n",
            "84 % complemeted\n",
            "85 % complemeted\n",
            "86 % complemeted\n",
            "87 % complemeted\n",
            "88 % complemeted\n",
            "89 % complemeted\n",
            "90 % complemeted\n",
            "91 % complemeted\n",
            "92 % complemeted\n",
            "93 % complemeted\n",
            "94 % complemeted\n",
            "95 % complemeted\n",
            "96 % complemeted\n",
            "97 % complemeted\n",
            "98 % complemeted\n",
            "99 % complemeted\n",
            "100 % complemeted\n"
          ],
          "name": "stdout"
        }
      ]
    },
    {
      "cell_type": "code",
      "metadata": {
        "colab": {
          "base_uri": "https://localhost:8080/",
          "height": 312
        },
        "id": "elUgqLfksa-U",
        "outputId": "93142bad-b799-4001-ff22-a81900cf6988"
      },
      "source": [
        "\n",
        "print(accuracy())\n",
        "\n",
        "plot_loss(losses)"
      ],
      "execution_count": 30,
      "outputs": [
        {
          "output_type": "stream",
          "text": [
            "87.42666666666666\n"
          ],
          "name": "stdout"
        },
        {
          "output_type": "display_data",
          "data": {
            "image/png": "[encoded data removed]",
            "text/plain": [
              "<Figure size 432x288 with 1 Axes>"
            ]
          },
          "metadata": {
            "tags": [],
            "needs_background": "light"
          }
        }
      ]
    },
    {
      "cell_type": "code",
      "metadata": {
        "colab": {
          "base_uri": "https://localhost:8080/"
        },
        "id": "fHcdvnAWscgK",
        "outputId": "8ededfb7-b482-49c2-f1aa-37881a13df35"
      },
      "source": [
        "\n",
        "optimizer = optim.SGD(FFNN.parameters(), lr = 0.0001)\n",
        "num_epochs = 3\n",
        "batch_size = 1000\n",
        "losses = train(num_epochs,batch_size,optimizer)"
      ],
      "execution_count": 31,
      "outputs": [
        {
          "output_type": "stream",
          "text": [
            "1 % complemeted\n",
            "2 % complemeted\n",
            "3 % complemeted\n",
            "4 % complemeted\n",
            "5 % complemeted\n",
            "6 % complemeted\n",
            "7 % complemeted\n",
            "8 % complemeted\n",
            "9 % complemeted\n",
            "10 % complemeted\n",
            "11 % complemeted\n",
            "12 % complemeted\n",
            "13 % complemeted\n",
            "14 % complemeted\n",
            "15 % complemeted\n",
            "16 % complemeted\n",
            "17 % complemeted\n",
            "18 % complemeted\n",
            "19 % complemeted\n",
            "20 % complemeted\n",
            "21 % complemeted\n",
            "22 % complemeted\n",
            "23 % complemeted\n",
            "24 % complemeted\n",
            "25 % complemeted\n",
            "26 % complemeted\n",
            "27 % complemeted\n",
            "28 % complemeted\n",
            "29 % complemeted\n",
            "30 % complemeted\n",
            "31 % complemeted\n",
            "32 % complemeted\n",
            "33 % complemeted\n",
            "34 % complemeted\n",
            "35 % complemeted\n",
            "36 % complemeted\n",
            "37 % complemeted\n",
            "38 % complemeted\n",
            "39 % complemeted\n",
            "40 % complemeted\n",
            "41 % complemeted\n",
            "42 % complemeted\n",
            "43 % complemeted\n",
            "44 % complemeted\n",
            "45 % complemeted\n",
            "46 % complemeted\n",
            "47 % complemeted\n",
            "48 % complemeted\n",
            "49 % complemeted\n",
            "50 % complemeted\n",
            "51 % complemeted\n",
            "52 % complemeted\n",
            "53 % complemeted\n",
            "54 % complemeted\n",
            "55 % complemeted\n",
            "56 % complemeted\n",
            "57 % complemeted\n",
            "58 % complemeted\n",
            "59 % complemeted\n",
            "60 % complemeted\n",
            "61 % complemeted\n",
            "62 % complemeted\n",
            "63 % complemeted\n",
            "64 % complemeted\n",
            "65 % complemeted\n",
            "66 % complemeted\n",
            "67 % complemeted\n",
            "68 % complemeted\n",
            "69 % complemeted\n",
            "70 % complemeted\n",
            "71 % complemeted\n",
            "72 % complemeted\n",
            "73 % complemeted\n",
            "74 % complemeted\n",
            "75 % complemeted\n",
            "76 % complemeted\n",
            "77 % complemeted\n",
            "78 % complemeted\n",
            "79 % complemeted\n",
            "80 % complemeted\n",
            "81 % complemeted\n",
            "82 % complemeted\n",
            "83 % complemeted\n",
            "84 % complemeted\n",
            "85 % complemeted\n",
            "86 % complemeted\n",
            "87 % complemeted\n",
            "88 % complemeted\n",
            "89 % complemeted\n",
            "90 % complemeted\n",
            "91 % complemeted\n",
            "92 % complemeted\n",
            "93 % complemeted\n",
            "94 % complemeted\n",
            "95 % complemeted\n",
            "96 % complemeted\n",
            "97 % complemeted\n",
            "98 % complemeted\n",
            "99 % complemeted\n",
            "100 % complemeted\n"
          ],
          "name": "stdout"
        }
      ]
    },
    {
      "cell_type": "code",
      "metadata": {
        "colab": {
          "base_uri": "https://localhost:8080/",
          "height": 312
        },
        "id": "ZKWFemk4seVo",
        "outputId": "c098d55d-4d35-48b3-c9c4-e7d4146146c0"
      },
      "source": [
        "print(accuracy())\n",
        "\n",
        "plot_loss(losses)"
      ],
      "execution_count": 32,
      "outputs": [
        {
          "output_type": "stream",
          "text": [
            "87.83333333333333\n"
          ],
          "name": "stdout"
        },
        {
          "output_type": "display_data",
          "data": {
            "image/png": "[encoded data removed]",
            "text/plain": [
              "<Figure size 432x288 with 1 Axes>"
            ]
          },
          "metadata": {
            "tags": [],
            "needs_background": "light"
          }
        }
      ]
    },
    {
      "cell_type": "code",
      "metadata": {
        "colab": {
          "base_uri": "https://localhost:8080/"
        },
        "id": "Oz9fV0YRsgWb",
        "outputId": "e457cb8b-cd0a-4866-a0f9-38f6a0b02b81"
      },
      "source": [
        "optimizer = optim.SGD(FFNN.parameters(), lr = 1e-6)\n",
        "num_epochs = 5\n",
        "batch_size = 5000\n",
        "losses = train(num_epochs,batch_size,optimizer)"
      ],
      "execution_count": 33,
      "outputs": [
        {
          "output_type": "stream",
          "text": [
            "1 % complemeted\n",
            "2 % complemeted\n",
            "3 % complemeted\n",
            "4 % complemeted\n",
            "5 % complemeted\n",
            "6 % complemeted\n",
            "7 % complemeted\n",
            "8 % complemeted\n",
            "9 % complemeted\n",
            "10 % complemeted\n",
            "11 % complemeted\n",
            "12 % complemeted\n",
            "13 % complemeted\n",
            "14 % complemeted\n",
            "15 % complemeted\n",
            "16 % complemeted\n",
            "17 % complemeted\n",
            "18 % complemeted\n",
            "19 % complemeted\n",
            "20 % complemeted\n",
            "21 % complemeted\n",
            "22 % complemeted\n",
            "23 % complemeted\n",
            "24 % complemeted\n",
            "25 % complemeted\n",
            "26 % complemeted\n",
            "27 % complemeted\n",
            "28 % complemeted\n",
            "29 % complemeted\n",
            "30 % complemeted\n",
            "31 % complemeted\n",
            "32 % complemeted\n",
            "33 % complemeted\n",
            "34 % complemeted\n",
            "35 % complemeted\n",
            "36 % complemeted\n",
            "37 % complemeted\n",
            "38 % complemeted\n",
            "39 % complemeted\n",
            "40 % complemeted\n",
            "41 % complemeted\n",
            "42 % complemeted\n",
            "43 % complemeted\n",
            "44 % complemeted\n",
            "45 % complemeted\n",
            "46 % complemeted\n",
            "47 % complemeted\n",
            "48 % complemeted\n",
            "49 % complemeted\n",
            "50 % complemeted\n",
            "51 % complemeted\n",
            "52 % complemeted\n",
            "53 % complemeted\n",
            "54 % complemeted\n",
            "55 % complemeted\n",
            "56 % complemeted\n",
            "57 % complemeted\n",
            "58 % complemeted\n",
            "59 % complemeted\n",
            "60 % complemeted\n",
            "61 % complemeted\n",
            "62 % complemeted\n",
            "63 % complemeted\n",
            "64 % complemeted\n",
            "65 % complemeted\n",
            "66 % complemeted\n",
            "67 % complemeted\n",
            "68 % complemeted\n",
            "69 % complemeted\n",
            "70 % complemeted\n",
            "71 % complemeted\n",
            "72 % complemeted\n",
            "73 % complemeted\n",
            "74 % complemeted\n",
            "75 % complemeted\n",
            "76 % complemeted\n",
            "77 % complemeted\n",
            "78 % complemeted\n",
            "79 % complemeted\n",
            "80 % complemeted\n",
            "81 % complemeted\n",
            "82 % complemeted\n",
            "83 % complemeted\n",
            "84 % complemeted\n",
            "85 % complemeted\n",
            "86 % complemeted\n",
            "87 % complemeted\n",
            "88 % complemeted\n",
            "89 % complemeted\n",
            "90 % complemeted\n",
            "91 % complemeted\n",
            "92 % complemeted\n",
            "93 % complemeted\n",
            "94 % complemeted\n",
            "95 % complemeted\n",
            "96 % complemeted\n",
            "97 % complemeted\n",
            "98 % complemeted\n",
            "99 % complemeted\n",
            "100 % complemeted\n"
          ],
          "name": "stdout"
        }
      ]
    },
    {
      "cell_type": "code",
      "metadata": {
        "id": "oaAO90YNsiII",
        "colab": {
          "base_uri": "https://localhost:8080/",
          "height": 312
        },
        "outputId": "936ac20b-6215-4f12-f46c-b541247c6b3d"
      },
      "source": [
        "print(accuracy())\n",
        "\n",
        "plot_loss(losses)"
      ],
      "execution_count": 34,
      "outputs": [
        {
          "output_type": "stream",
          "text": [
            "87.84666666666666\n"
          ],
          "name": "stdout"
        },
        {
          "output_type": "display_data",
          "data": {
            "image/png": "[encoded data removed]",
            "text/plain": [
              "<Figure size 432x288 with 1 Axes>"
            ]
          },
          "metadata": {
            "tags": [],
            "needs_background": "light"
          }
        }
      ]
    },
    {
      "cell_type": "code",
      "metadata": {
        "id": "76cTkgJHsjiN",
        "colab": {
          "base_uri": "https://localhost:8080/"
        },
        "outputId": "23dde462-a4de-495f-decf-e0490aaaed90"
      },
      "source": [
        "optimizer = optim.SGD(FFNN.parameters(), lr = 1e-4)\n",
        "num_epochs = 3\n",
        "batch_size = 10\n",
        "losses = train(num_epochs,batch_size,optimizer)"
      ],
      "execution_count": 35,
      "outputs": [
        {
          "output_type": "stream",
          "text": [
            "1 % complemeted\n",
            "2 % complemeted\n",
            "3 % complemeted\n",
            "4 % complemeted\n",
            "5 % complemeted\n",
            "6 % complemeted\n",
            "7 % complemeted\n",
            "8 % complemeted\n",
            "9 % complemeted\n",
            "10 % complemeted\n",
            "11 % complemeted\n",
            "12 % complemeted\n",
            "13 % complemeted\n",
            "14 % complemeted\n",
            "15 % complemeted\n",
            "16 % complemeted\n",
            "17 % complemeted\n",
            "18 % complemeted\n",
            "19 % complemeted\n",
            "20 % complemeted\n",
            "21 % complemeted\n",
            "22 % complemeted\n",
            "23 % complemeted\n",
            "24 % complemeted\n",
            "25 % complemeted\n",
            "26 % complemeted\n",
            "27 % complemeted\n",
            "28 % complemeted\n",
            "29 % complemeted\n",
            "30 % complemeted\n",
            "31 % complemeted\n",
            "32 % complemeted\n",
            "33 % complemeted\n",
            "34 % complemeted\n",
            "35 % complemeted\n",
            "36 % complemeted\n",
            "37 % complemeted\n",
            "38 % complemeted\n",
            "39 % complemeted\n",
            "40 % complemeted\n",
            "41 % complemeted\n",
            "42 % complemeted\n",
            "43 % complemeted\n",
            "44 % complemeted\n",
            "45 % complemeted\n",
            "46 % complemeted\n",
            "47 % complemeted\n",
            "48 % complemeted\n",
            "49 % complemeted\n",
            "50 % complemeted\n",
            "51 % complemeted\n",
            "52 % complemeted\n",
            "53 % complemeted\n",
            "54 % complemeted\n",
            "55 % complemeted\n",
            "56 % complemeted\n",
            "57 % complemeted\n",
            "58 % complemeted\n",
            "59 % complemeted\n",
            "60 % complemeted\n",
            "61 % complemeted\n",
            "62 % complemeted\n",
            "63 % complemeted\n",
            "64 % complemeted\n",
            "65 % complemeted\n",
            "66 % complemeted\n",
            "67 % complemeted\n",
            "68 % complemeted\n",
            "69 % complemeted\n",
            "70 % complemeted\n",
            "71 % complemeted\n",
            "72 % complemeted\n",
            "73 % complemeted\n",
            "74 % complemeted\n",
            "75 % complemeted\n",
            "76 % complemeted\n",
            "77 % complemeted\n",
            "78 % complemeted\n",
            "79 % complemeted\n",
            "80 % complemeted\n",
            "81 % complemeted\n",
            "82 % complemeted\n",
            "83 % complemeted\n",
            "84 % complemeted\n",
            "85 % complemeted\n",
            "86 % complemeted\n",
            "87 % complemeted\n",
            "88 % complemeted\n",
            "89 % complemeted\n",
            "90 % complemeted\n",
            "91 % complemeted\n",
            "92 % complemeted\n",
            "93 % complemeted\n",
            "94 % complemeted\n",
            "95 % complemeted\n",
            "96 % complemeted\n",
            "97 % complemeted\n",
            "98 % complemeted\n",
            "99 % complemeted\n",
            "100 % complemeted\n"
          ],
          "name": "stdout"
        }
      ]
    },
    {
      "cell_type": "code",
      "metadata": {
        "id": "eVlQBO4xsk-d",
        "colab": {
          "base_uri": "https://localhost:8080/",
          "height": 312
        },
        "outputId": "09d85b2a-4e19-4f09-e863-000eeff508c7"
      },
      "source": [
        "print(accuracy())\n",
        "\n",
        "plot_loss(losses)"
      ],
      "execution_count": 36,
      "outputs": [
        {
          "output_type": "stream",
          "text": [
            "87.87333333333333\n"
          ],
          "name": "stdout"
        },
        {
          "output_type": "display_data",
          "data": {
            "image/png": "[encoded data removed]",
            "text/plain": [
              "<Figure size 432x288 with 1 Axes>"
            ]
          },
          "metadata": {
            "tags": [],
            "needs_background": "light"
          }
        }
      ]
    }
  ]
}